{
 "cells": [
  {
   "cell_type": "markdown",
   "id": "fac16248-e63d-4611-942a-802c42870a3d",
   "metadata": {},
   "source": [
    "# Evaluating customer booking trends to identify targeted marketing opportunities\n",
    "\n"
   ]
  },
  {
   "cell_type": "markdown",
   "id": "940f5d92-db6c-4d97-8744-77bbf189073b",
   "metadata": {},
   "source": [
    "**Overview**"
   ]
  },
  {
   "cell_type": "markdown",
   "id": "306d620c-ce86-4661-ad39-b0fa5734f1fb",
   "metadata": {},
   "source": [
    "Part 1  Introduction<br>"
   ]
  },
  {
   "cell_type": "markdown",
   "id": "825d983d-90cc-45f5-9a53-28a6a0344a45",
   "metadata": {},
   "source": [
    "Part 2  Data Preparation & Data Cleaning<br>"
   ]
  },
  {
   "cell_type": "markdown",
   "id": "e0a80777-75a0-4de0-a28c-44805606f607",
   "metadata": {},
   "source": [
    "Part 3  Exploratory Data Analysis<br><br>"
   ]
  },
  {
   "cell_type": "markdown",
   "id": "588f941e-47fd-4d96-8afe-f7ebe1aaa11d",
   "metadata": {},
   "source": [
    "## Part 1  Introduction"
   ]
  },
  {
   "cell_type": "markdown",
   "id": "96031060-1fc8-4238-b2b7-914d7046c915",
   "metadata": {},
   "source": [
    "Our project involves the analysis of a customer dataset of a four-star hotel in Lisbon, Portugal. <br>\n",
    "The dataset comprises of customer behavioral data for the year 2015 to 2018. In addition to personal and behavioral information, the dataset also contains demographic information such as age and geographical information such as customer nationality. In total, there are 31 fields describing a total of 83,590 customers."
   ]
  },
  {
   "cell_type": "markdown",
   "id": "9663f669-9e04-415e-a357-c139dbb4401f",
   "metadata": {},
   "source": [
    "Our stakeholder: the marketing team of the hotel"
   ]
  },
  {
   "cell_type": "markdown",
   "id": "ecb4323b-9688-4c17-bb34-6929b47d56b0",
   "metadata": {
    "tags": []
   },
   "source": [
    "**The objective of our project is to**"
   ]
  },
  {
   "cell_type": "markdown",
   "id": "b5b45b61-820b-4dce-bf6c-96cc4608b01a",
   "metadata": {},
   "source": [
    "1. Gauge customer preferences to devise marketing strategies."
   ]
  },
  {
   "cell_type": "markdown",
   "id": "03dc89f8-6f50-420f-a88c-613391a857a6",
   "metadata": {},
   "source": [
    "2. Conduct analysis to understand customer segmentation.<br>"
   ]
  },
  {
   "cell_type": "markdown",
   "id": "1d508989-147e-4ab7-91df-f2684105cd13",
   "metadata": {},
   "source": [
    "**Source**:\n",
    "\n",
    "Antonio, Nuno; de Almeida, Ana; Nunes, Luis (2020), “Lisbon, Portugal, hotel’s customer dataset with three years of personal, behavioral, demographic, and geographic information”, Mendeley Data, V1, doi: 10.17632/j83f5fsh6c.1\n",
    "https://data.mendeley.com/datasets/j83f5fsh6c/1\n",
    "\n",
    "(Kaggle link: https://www.kaggle.com/datasets/nantonio/a-hotels-customers-dataset)<br><br>"
   ]
  },
  {
   "cell_type": "markdown",
   "id": "c2601c41-467e-446f-8773-7364d9e45fb5",
   "metadata": {},
   "source": [
    "## Part 2  Data Preparation & Data Cleaning"
   ]
  },
  {
   "cell_type": "markdown",
   "id": "83dbd980-9972-4b1a-bace-4f77d706219d",
   "metadata": {
    "jp-MarkdownHeadingCollapsed": true,
    "tags": []
   },
   "source": [
    "#### Check the original data"
   ]
  },
  {
   "cell_type": "code",
   "execution_count": 46,
   "id": "c4c999e4-db1a-4df8-b33a-708323bd7eb8",
   "metadata": {},
   "outputs": [
    {
     "name": "stderr",
     "output_type": "stream",
     "text": [
      "Query complete after 0.00s: 100%|██████████| 1/1 [00:00<00:00, 908.45query/s] \n",
      "Downloading: 100%|██████████| 83590/83590 [00:04<00:00, 17725.26rows/s]\n"
     ]
    },
    {
     "data": {
      "text/html": [
       "<div>\n",
       "<style scoped>\n",
       "    .dataframe tbody tr th:only-of-type {\n",
       "        vertical-align: middle;\n",
       "    }\n",
       "\n",
       "    .dataframe tbody tr th {\n",
       "        vertical-align: top;\n",
       "    }\n",
       "\n",
       "    .dataframe thead th {\n",
       "        text-align: right;\n",
       "    }\n",
       "</style>\n",
       "<table border=\"1\" class=\"dataframe\">\n",
       "  <thead>\n",
       "    <tr style=\"text-align: right;\">\n",
       "      <th></th>\n",
       "      <th>ID</th>\n",
       "      <th>Nationality</th>\n",
       "      <th>Age</th>\n",
       "      <th>DaysSinceCreation</th>\n",
       "      <th>NameHash</th>\n",
       "      <th>DocIDHash</th>\n",
       "      <th>AverageLeadTime</th>\n",
       "      <th>LodgingRevenue</th>\n",
       "      <th>OtherRevenue</th>\n",
       "      <th>BookingsCanceled</th>\n",
       "      <th>...</th>\n",
       "      <th>SRMediumFloor</th>\n",
       "      <th>SRBathtub</th>\n",
       "      <th>SRShower</th>\n",
       "      <th>SRCrib</th>\n",
       "      <th>SRKingSizeBed</th>\n",
       "      <th>SRTwinBed</th>\n",
       "      <th>SRNearElevator</th>\n",
       "      <th>SRAwayFromElevator</th>\n",
       "      <th>SRNoAlcoholInMiniBar</th>\n",
       "      <th>SRQuietRoom</th>\n",
       "    </tr>\n",
       "  </thead>\n",
       "  <tbody>\n",
       "    <tr>\n",
       "      <th>0</th>\n",
       "      <td>25208</td>\n",
       "      <td>ITA</td>\n",
       "      <td>47</td>\n",
       "      <td>640</td>\n",
       "      <td>1.189864e+76</td>\n",
       "      <td>5.158616e+76</td>\n",
       "      <td>21</td>\n",
       "      <td>246.4</td>\n",
       "      <td>14.0</td>\n",
       "      <td>0</td>\n",
       "      <td>...</td>\n",
       "      <td>0</td>\n",
       "      <td>0</td>\n",
       "      <td>0</td>\n",
       "      <td>0</td>\n",
       "      <td>0</td>\n",
       "      <td>0</td>\n",
       "      <td>0</td>\n",
       "      <td>0</td>\n",
       "      <td>0</td>\n",
       "      <td>0</td>\n",
       "    </tr>\n",
       "    <tr>\n",
       "      <th>1</th>\n",
       "      <td>52953</td>\n",
       "      <td>ESP</td>\n",
       "      <td>31</td>\n",
       "      <td>255</td>\n",
       "      <td>9.360460e+76</td>\n",
       "      <td>8.738363e+76</td>\n",
       "      <td>7</td>\n",
       "      <td>159.0</td>\n",
       "      <td>1.0</td>\n",
       "      <td>0</td>\n",
       "      <td>...</td>\n",
       "      <td>0</td>\n",
       "      <td>0</td>\n",
       "      <td>0</td>\n",
       "      <td>0</td>\n",
       "      <td>0</td>\n",
       "      <td>0</td>\n",
       "      <td>0</td>\n",
       "      <td>0</td>\n",
       "      <td>0</td>\n",
       "      <td>0</td>\n",
       "    </tr>\n",
       "    <tr>\n",
       "      <th>2</th>\n",
       "      <td>52971</td>\n",
       "      <td>CHE</td>\n",
       "      <td>59</td>\n",
       "      <td>255</td>\n",
       "      <td>8.846941e+76</td>\n",
       "      <td>7.281996e+75</td>\n",
       "      <td>2</td>\n",
       "      <td>275.2</td>\n",
       "      <td>30.0</td>\n",
       "      <td>0</td>\n",
       "      <td>...</td>\n",
       "      <td>0</td>\n",
       "      <td>0</td>\n",
       "      <td>0</td>\n",
       "      <td>0</td>\n",
       "      <td>1</td>\n",
       "      <td>0</td>\n",
       "      <td>0</td>\n",
       "      <td>0</td>\n",
       "      <td>0</td>\n",
       "      <td>0</td>\n",
       "    </tr>\n",
       "    <tr>\n",
       "      <th>3</th>\n",
       "      <td>52977</td>\n",
       "      <td>DNK</td>\n",
       "      <td>67</td>\n",
       "      <td>255</td>\n",
       "      <td>8.900703e+76</td>\n",
       "      <td>1.122777e+77</td>\n",
       "      <td>35</td>\n",
       "      <td>87.2</td>\n",
       "      <td>1.0</td>\n",
       "      <td>0</td>\n",
       "      <td>...</td>\n",
       "      <td>0</td>\n",
       "      <td>0</td>\n",
       "      <td>0</td>\n",
       "      <td>0</td>\n",
       "      <td>1</td>\n",
       "      <td>0</td>\n",
       "      <td>0</td>\n",
       "      <td>0</td>\n",
       "      <td>0</td>\n",
       "      <td>0</td>\n",
       "    </tr>\n",
       "    <tr>\n",
       "      <th>4</th>\n",
       "      <td>52985</td>\n",
       "      <td>ITA</td>\n",
       "      <td>41</td>\n",
       "      <td>255</td>\n",
       "      <td>4.005763e+76</td>\n",
       "      <td>1.062045e+77</td>\n",
       "      <td>85</td>\n",
       "      <td>122.1</td>\n",
       "      <td>7.0</td>\n",
       "      <td>0</td>\n",
       "      <td>...</td>\n",
       "      <td>0</td>\n",
       "      <td>0</td>\n",
       "      <td>0</td>\n",
       "      <td>0</td>\n",
       "      <td>0</td>\n",
       "      <td>0</td>\n",
       "      <td>0</td>\n",
       "      <td>0</td>\n",
       "      <td>0</td>\n",
       "      <td>0</td>\n",
       "    </tr>\n",
       "    <tr>\n",
       "      <th>...</th>\n",
       "      <td>...</td>\n",
       "      <td>...</td>\n",
       "      <td>...</td>\n",
       "      <td>...</td>\n",
       "      <td>...</td>\n",
       "      <td>...</td>\n",
       "      <td>...</td>\n",
       "      <td>...</td>\n",
       "      <td>...</td>\n",
       "      <td>...</td>\n",
       "      <td>...</td>\n",
       "      <td>...</td>\n",
       "      <td>...</td>\n",
       "      <td>...</td>\n",
       "      <td>...</td>\n",
       "      <td>...</td>\n",
       "      <td>...</td>\n",
       "      <td>...</td>\n",
       "      <td>...</td>\n",
       "      <td>...</td>\n",
       "      <td>...</td>\n",
       "    </tr>\n",
       "    <tr>\n",
       "      <th>83585</th>\n",
       "      <td>83427</td>\n",
       "      <td>CHE</td>\n",
       "      <td>67</td>\n",
       "      <td>1</td>\n",
       "      <td>6.046438e+76</td>\n",
       "      <td>6.422017e+76</td>\n",
       "      <td>0</td>\n",
       "      <td>0.0</td>\n",
       "      <td>0.0</td>\n",
       "      <td>0</td>\n",
       "      <td>...</td>\n",
       "      <td>0</td>\n",
       "      <td>0</td>\n",
       "      <td>0</td>\n",
       "      <td>0</td>\n",
       "      <td>0</td>\n",
       "      <td>0</td>\n",
       "      <td>0</td>\n",
       "      <td>0</td>\n",
       "      <td>0</td>\n",
       "      <td>0</td>\n",
       "    </tr>\n",
       "    <tr>\n",
       "      <th>83586</th>\n",
       "      <td>83572</td>\n",
       "      <td>CHN</td>\n",
       "      <td>34</td>\n",
       "      <td>0</td>\n",
       "      <td>9.163866e+76</td>\n",
       "      <td>5.905219e+76</td>\n",
       "      <td>0</td>\n",
       "      <td>0.0</td>\n",
       "      <td>0.0</td>\n",
       "      <td>0</td>\n",
       "      <td>...</td>\n",
       "      <td>0</td>\n",
       "      <td>0</td>\n",
       "      <td>0</td>\n",
       "      <td>0</td>\n",
       "      <td>1</td>\n",
       "      <td>0</td>\n",
       "      <td>0</td>\n",
       "      <td>0</td>\n",
       "      <td>0</td>\n",
       "      <td>0</td>\n",
       "    </tr>\n",
       "    <tr>\n",
       "      <th>83587</th>\n",
       "      <td>83574</td>\n",
       "      <td>FRA</td>\n",
       "      <td>36</td>\n",
       "      <td>0</td>\n",
       "      <td>5.313667e+76</td>\n",
       "      <td>3.315645e+76</td>\n",
       "      <td>0</td>\n",
       "      <td>0.0</td>\n",
       "      <td>0.0</td>\n",
       "      <td>0</td>\n",
       "      <td>...</td>\n",
       "      <td>0</td>\n",
       "      <td>0</td>\n",
       "      <td>0</td>\n",
       "      <td>0</td>\n",
       "      <td>0</td>\n",
       "      <td>0</td>\n",
       "      <td>0</td>\n",
       "      <td>0</td>\n",
       "      <td>0</td>\n",
       "      <td>0</td>\n",
       "    </tr>\n",
       "    <tr>\n",
       "      <th>83588</th>\n",
       "      <td>83576</td>\n",
       "      <td>FRA</td>\n",
       "      <td>9</td>\n",
       "      <td>0</td>\n",
       "      <td>7.807027e+76</td>\n",
       "      <td>1.045344e+77</td>\n",
       "      <td>0</td>\n",
       "      <td>0.0</td>\n",
       "      <td>0.0</td>\n",
       "      <td>0</td>\n",
       "      <td>...</td>\n",
       "      <td>0</td>\n",
       "      <td>0</td>\n",
       "      <td>0</td>\n",
       "      <td>0</td>\n",
       "      <td>0</td>\n",
       "      <td>0</td>\n",
       "      <td>0</td>\n",
       "      <td>0</td>\n",
       "      <td>0</td>\n",
       "      <td>0</td>\n",
       "    </tr>\n",
       "    <tr>\n",
       "      <th>83589</th>\n",
       "      <td>83577</td>\n",
       "      <td>FRA</td>\n",
       "      <td>6</td>\n",
       "      <td>0</td>\n",
       "      <td>7.818024e+76</td>\n",
       "      <td>1.821142e+76</td>\n",
       "      <td>0</td>\n",
       "      <td>0.0</td>\n",
       "      <td>0.0</td>\n",
       "      <td>0</td>\n",
       "      <td>...</td>\n",
       "      <td>0</td>\n",
       "      <td>0</td>\n",
       "      <td>0</td>\n",
       "      <td>0</td>\n",
       "      <td>0</td>\n",
       "      <td>0</td>\n",
       "      <td>0</td>\n",
       "      <td>0</td>\n",
       "      <td>0</td>\n",
       "      <td>0</td>\n",
       "    </tr>\n",
       "  </tbody>\n",
       "</table>\n",
       "<p>83590 rows × 31 columns</p>\n",
       "</div>"
      ],
      "text/plain": [
       "          ID Nationality Age  DaysSinceCreation      NameHash     DocIDHash  \\\n",
       "0      25208         ITA  47                640  1.189864e+76  5.158616e+76   \n",
       "1      52953         ESP  31                255  9.360460e+76  8.738363e+76   \n",
       "2      52971         CHE  59                255  8.846941e+76  7.281996e+75   \n",
       "3      52977         DNK  67                255  8.900703e+76  1.122777e+77   \n",
       "4      52985         ITA  41                255  4.005763e+76  1.062045e+77   \n",
       "...      ...         ...  ..                ...           ...           ...   \n",
       "83585  83427         CHE  67                  1  6.046438e+76  6.422017e+76   \n",
       "83586  83572         CHN  34                  0  9.163866e+76  5.905219e+76   \n",
       "83587  83574         FRA  36                  0  5.313667e+76  3.315645e+76   \n",
       "83588  83576         FRA   9                  0  7.807027e+76  1.045344e+77   \n",
       "83589  83577         FRA   6                  0  7.818024e+76  1.821142e+76   \n",
       "\n",
       "       AverageLeadTime  LodgingRevenue  OtherRevenue  BookingsCanceled  ...  \\\n",
       "0                   21           246.4          14.0                 0  ...   \n",
       "1                    7           159.0           1.0                 0  ...   \n",
       "2                    2           275.2          30.0                 0  ...   \n",
       "3                   35            87.2           1.0                 0  ...   \n",
       "4                   85           122.1           7.0                 0  ...   \n",
       "...                ...             ...           ...               ...  ...   \n",
       "83585                0             0.0           0.0                 0  ...   \n",
       "83586                0             0.0           0.0                 0  ...   \n",
       "83587                0             0.0           0.0                 0  ...   \n",
       "83588                0             0.0           0.0                 0  ...   \n",
       "83589                0             0.0           0.0                 0  ...   \n",
       "\n",
       "       SRMediumFloor  SRBathtub  SRShower  SRCrib  SRKingSizeBed  SRTwinBed  \\\n",
       "0                  0          0         0       0              0          0   \n",
       "1                  0          0         0       0              0          0   \n",
       "2                  0          0         0       0              1          0   \n",
       "3                  0          0         0       0              1          0   \n",
       "4                  0          0         0       0              0          0   \n",
       "...              ...        ...       ...     ...            ...        ...   \n",
       "83585              0          0         0       0              0          0   \n",
       "83586              0          0         0       0              1          0   \n",
       "83587              0          0         0       0              0          0   \n",
       "83588              0          0         0       0              0          0   \n",
       "83589              0          0         0       0              0          0   \n",
       "\n",
       "      SRNearElevator SRAwayFromElevator  SRNoAlcoholInMiniBar  SRQuietRoom  \n",
       "0                  0                  0                     0            0  \n",
       "1                  0                  0                     0            0  \n",
       "2                  0                  0                     0            0  \n",
       "3                  0                  0                     0            0  \n",
       "4                  0                  0                     0            0  \n",
       "...              ...                ...                   ...          ...  \n",
       "83585              0                  0                     0            0  \n",
       "83586              0                  0                     0            0  \n",
       "83587              0                  0                     0            0  \n",
       "83588              0                  0                     0            0  \n",
       "83589              0                  0                     0            0  \n",
       "\n",
       "[83590 rows x 31 columns]"
      ]
     },
     "execution_count": 46,
     "metadata": {},
     "output_type": "execute_result"
    }
   ],
   "source": [
    "%%bigquery\n",
    "SELECT *\n",
    "FROM `ba775-a09-fall22.hotelcustomerdataset.hotel-customer-dataset`;"
   ]
  },
  {
   "cell_type": "markdown",
   "id": "07ab61c1-2d77-4c5f-920f-b8adf9686850",
   "metadata": {
    "jp-MarkdownHeadingCollapsed": true,
    "tags": []
   },
   "source": [
    "#### Transform data type and drop unnecessary columns\n",
    "Transform \"Age\" data type into integer and drop the unnecessary columns including \"NameHash\" and \"DocIDHash\".<br>\n",
    "Save the table as a new table `hotelcustomerdataset.hotelcustomersdatasetcleaned`."
   ]
  },
  {
   "cell_type": "code",
   "execution_count": 2,
   "id": "e25a9f9f-206b-485e-b103-0235775df644",
   "metadata": {},
   "outputs": [
    {
     "name": "stderr",
     "output_type": "stream",
     "text": [
      "Query complete after 0.00s: 100%|██████████| 1/1 [00:00<00:00, 526.53query/s] \n"
     ]
    },
    {
     "data": {
      "text/html": [
       "<div>\n",
       "<style scoped>\n",
       "    .dataframe tbody tr th:only-of-type {\n",
       "        vertical-align: middle;\n",
       "    }\n",
       "\n",
       "    .dataframe tbody tr th {\n",
       "        vertical-align: top;\n",
       "    }\n",
       "\n",
       "    .dataframe thead th {\n",
       "        text-align: right;\n",
       "    }\n",
       "</style>\n",
       "<table border=\"1\" class=\"dataframe\">\n",
       "  <thead>\n",
       "    <tr style=\"text-align: right;\">\n",
       "      <th></th>\n",
       "    </tr>\n",
       "  </thead>\n",
       "  <tbody>\n",
       "  </tbody>\n",
       "</table>\n",
       "</div>"
      ],
      "text/plain": [
       "Empty DataFrame\n",
       "Columns: []\n",
       "Index: []"
      ]
     },
     "execution_count": 2,
     "metadata": {},
     "output_type": "execute_result"
    }
   ],
   "source": [
    "%%bigquery\n",
    "CREATE TABLE IF NOT EXISTS ba775-a09-fall22.hotelcustomerdataset.hotelcustomersdatasetcleaned\n",
    "AS\n",
    "select \n",
    "ID,Nationality,safe_cast(Age as INT64) Age,DaysSinceCreation,AverageLeadTime,LodgingRevenue,OtherRevenue,BookingsCanceled,\n",
    "BookingsNoShowed,BookingsCheckedIn,PersonsNights,RoomNights,DaysSinceLastStay,DaysSinceFirstStay,DistributionChannel,MarketSegment,\n",
    "SRHighFloor,SRLowFloor,SRAccessibleRoom,SRMediumFloor,SRBathtub,SRShower,SRCrib,SRKingSizeBed,SRTwinBed,SRNearElevator,SRAwayFromElevator,SRNoAlcoholInMiniBar,SRQuietRoom\n",
    "FROM `ba775-a09-fall22.hotelcustomerdataset.hotel-customer-dataset`;"
   ]
  },
  {
   "cell_type": "markdown",
   "id": "3577c32b-a970-4d8a-8ed2-401554d87578",
   "metadata": {
    "jp-MarkdownHeadingCollapsed": true,
    "tags": []
   },
   "source": [
    "#### Check if there are any duplicates in \"ID\""
   ]
  },
  {
   "cell_type": "code",
   "execution_count": 48,
   "id": "9cc7dc0e-03ec-4bad-94d0-f685a7344a67",
   "metadata": {},
   "outputs": [
    {
     "name": "stderr",
     "output_type": "stream",
     "text": [
      "Query complete after 0.00s: 100%|██████████| 1/1 [00:00<00:00, 1048.05query/s]\n",
      "Downloading: 0rows [00:00, ?rows/s]\n"
     ]
    },
    {
     "data": {
      "text/html": [
       "<div>\n",
       "<style scoped>\n",
       "    .dataframe tbody tr th:only-of-type {\n",
       "        vertical-align: middle;\n",
       "    }\n",
       "\n",
       "    .dataframe tbody tr th {\n",
       "        vertical-align: top;\n",
       "    }\n",
       "\n",
       "    .dataframe thead th {\n",
       "        text-align: right;\n",
       "    }\n",
       "</style>\n",
       "<table border=\"1\" class=\"dataframe\">\n",
       "  <thead>\n",
       "    <tr style=\"text-align: right;\">\n",
       "      <th></th>\n",
       "      <th>ID</th>\n",
       "      <th>f0_</th>\n",
       "    </tr>\n",
       "  </thead>\n",
       "  <tbody>\n",
       "  </tbody>\n",
       "</table>\n",
       "</div>"
      ],
      "text/plain": [
       "Empty DataFrame\n",
       "Columns: [ID, f0_]\n",
       "Index: []"
      ]
     },
     "execution_count": 48,
     "metadata": {},
     "output_type": "execute_result"
    }
   ],
   "source": [
    "%%bigquery\n",
    "--check duplicate ID\n",
    "SELECT ID,COUNT(*)\n",
    "FROM `ba775-a09-fall22.hotelcustomerdataset.hotelcustomersdatasetcleaned`\n",
    "GROUP BY ID\n",
    "HAVING COUNT(*) > 1;"
   ]
  },
  {
   "cell_type": "markdown",
   "id": "7d729e4b-963f-46c5-88e9-7b2c67c34394",
   "metadata": {
    "jp-MarkdownHeadingCollapsed": true,
    "tags": []
   },
   "source": [
    "#### Check if there are any null values in \"Age\""
   ]
  },
  {
   "cell_type": "code",
   "execution_count": 50,
   "id": "da6de0f8-5bdb-4656-8400-da36691d0d91",
   "metadata": {},
   "outputs": [
    {
     "name": "stderr",
     "output_type": "stream",
     "text": [
      "Query complete after 0.00s: 100%|██████████| 1/1 [00:00<00:00, 181.59query/s] \n",
      "Downloading: 100%|██████████| 1/1 [00:04<00:00,  4.78s/rows]\n"
     ]
    },
    {
     "data": {
      "text/html": [
       "<div>\n",
       "<style scoped>\n",
       "    .dataframe tbody tr th:only-of-type {\n",
       "        vertical-align: middle;\n",
       "    }\n",
       "\n",
       "    .dataframe tbody tr th {\n",
       "        vertical-align: top;\n",
       "    }\n",
       "\n",
       "    .dataframe thead th {\n",
       "        text-align: right;\n",
       "    }\n",
       "</style>\n",
       "<table border=\"1\" class=\"dataframe\">\n",
       "  <thead>\n",
       "    <tr style=\"text-align: right;\">\n",
       "      <th></th>\n",
       "      <th>Age_Count</th>\n",
       "      <th>Total</th>\n",
       "      <th>Null_Count</th>\n",
       "    </tr>\n",
       "  </thead>\n",
       "  <tbody>\n",
       "    <tr>\n",
       "      <th>0</th>\n",
       "      <td>79811</td>\n",
       "      <td>83590</td>\n",
       "      <td>3779</td>\n",
       "    </tr>\n",
       "  </tbody>\n",
       "</table>\n",
       "</div>"
      ],
      "text/plain": [
       "   Age_Count  Total  Null_Count\n",
       "0      79811  83590        3779"
      ]
     },
     "execution_count": 50,
     "metadata": {},
     "output_type": "execute_result"
    }
   ],
   "source": [
    "%%bigquery\n",
    "select count(Age) Age_Count, count(*) Total, count(*)-count(Age) Null_Count\n",
    "from `ba775-a09-fall22.hotelcustomerdataset.hotelcustomersdatasetcleaned`;"
   ]
  },
  {
   "cell_type": "markdown",
   "id": "85001856-ca8d-4d68-b6cb-8b2445962e2f",
   "metadata": {},
   "source": [
    "There are 3779 rows have null value in \"Age\"."
   ]
  },
  {
   "cell_type": "markdown",
   "id": "9c56e6a6-4b0f-4c21-9bb6-8b2c2f2df3cb",
   "metadata": {
    "jp-MarkdownHeadingCollapsed": true,
    "tags": []
   },
   "source": [
    "#### Identify outliers of \"Age\" with the lower/upper bound equals to 2 standard deviation below/above the mean"
   ]
  },
  {
   "cell_type": "code",
   "execution_count": 52,
   "id": "d06c9af1-e8c1-48e2-a6f5-29ca6b23bdb3",
   "metadata": {},
   "outputs": [
    {
     "name": "stderr",
     "output_type": "stream",
     "text": [
      "Query complete after 0.00s: 100%|██████████| 1/1 [00:00<00:00, 519.74query/s] \n",
      "Downloading: 100%|██████████| 5/5 [00:01<00:00,  3.63rows/s]\n"
     ]
    },
    {
     "data": {
      "text/html": [
       "<div>\n",
       "<style scoped>\n",
       "    .dataframe tbody tr th:only-of-type {\n",
       "        vertical-align: middle;\n",
       "    }\n",
       "\n",
       "    .dataframe tbody tr th {\n",
       "        vertical-align: top;\n",
       "    }\n",
       "\n",
       "    .dataframe thead th {\n",
       "        text-align: right;\n",
       "    }\n",
       "</style>\n",
       "<table border=\"1\" class=\"dataframe\">\n",
       "  <thead>\n",
       "    <tr style=\"text-align: right;\">\n",
       "      <th></th>\n",
       "      <th>Age</th>\n",
       "      <th>label</th>\n",
       "      <th>lower_bound</th>\n",
       "      <th>upper_bound</th>\n",
       "    </tr>\n",
       "  </thead>\n",
       "  <tbody>\n",
       "    <tr>\n",
       "      <th>0</th>\n",
       "      <td>122</td>\n",
       "      <td>outlier</td>\n",
       "      <td>12.253291</td>\n",
       "      <td>78.542764</td>\n",
       "    </tr>\n",
       "    <tr>\n",
       "      <th>1</th>\n",
       "      <td>114</td>\n",
       "      <td>outlier</td>\n",
       "      <td>12.253291</td>\n",
       "      <td>78.542764</td>\n",
       "    </tr>\n",
       "    <tr>\n",
       "      <th>2</th>\n",
       "      <td>114</td>\n",
       "      <td>outlier</td>\n",
       "      <td>12.253291</td>\n",
       "      <td>78.542764</td>\n",
       "    </tr>\n",
       "    <tr>\n",
       "      <th>3</th>\n",
       "      <td>113</td>\n",
       "      <td>outlier</td>\n",
       "      <td>12.253291</td>\n",
       "      <td>78.542764</td>\n",
       "    </tr>\n",
       "    <tr>\n",
       "      <th>4</th>\n",
       "      <td>113</td>\n",
       "      <td>outlier</td>\n",
       "      <td>12.253291</td>\n",
       "      <td>78.542764</td>\n",
       "    </tr>\n",
       "  </tbody>\n",
       "</table>\n",
       "</div>"
      ],
      "text/plain": [
       "   Age    label  lower_bound  upper_bound\n",
       "0  122  outlier    12.253291    78.542764\n",
       "1  114  outlier    12.253291    78.542764\n",
       "2  114  outlier    12.253291    78.542764\n",
       "3  113  outlier    12.253291    78.542764\n",
       "4  113  outlier    12.253291    78.542764"
      ]
     },
     "execution_count": 52,
     "metadata": {},
     "output_type": "execute_result"
    }
   ],
   "source": [
    "%%bigquery\n",
    "SELECT\n",
    "   data.Age,\n",
    "   case\n",
    "      when data.Age between mean - 2 * stdev and mean + 2 * stdev \n",
    "         then 'not outlier'\n",
    "      else 'outlier'\n",
    "   end label,\n",
    "   mean - 2 * stdev lower_bound,\n",
    "   mean + 2 * stdev upper_bound\n",
    "FROM `ba775-a09-fall22.hotelcustomerdataset.hotelcustomersdatasetcleaned` AS data\n",
    "CROSS JOIN \n",
    "   (\n",
    "    SELECT\n",
    "      avg(data.Age) mean,\n",
    "      stddev_samp(data.Age) stdev \n",
    "    FROM `ba775-a09-fall22.hotelcustomerdataset.hotelcustomersdatasetcleaned` AS data ) mean_sd\n",
    "ORDER BY Age DESC\n",
    "limit 5;"
   ]
  },
  {
   "cell_type": "markdown",
   "id": "1493a94f-f413-477b-a69b-63bd4675c193",
   "metadata": {
    "jp-MarkdownHeadingCollapsed": true,
    "tags": []
   },
   "source": [
    "#### Count the numbers of outliers in \"Age\""
   ]
  },
  {
   "cell_type": "code",
   "execution_count": 53,
   "id": "473203bd-8fa9-4af7-9026-d48172abe7fa",
   "metadata": {},
   "outputs": [
    {
     "name": "stderr",
     "output_type": "stream",
     "text": [
      "Query complete after 0.00s: 100%|██████████| 1/1 [00:00<00:00, 521.36query/s] \n",
      "Downloading: 100%|██████████| 2/2 [00:01<00:00,  1.14rows/s]\n"
     ]
    },
    {
     "data": {
      "text/html": [
       "<div>\n",
       "<style scoped>\n",
       "    .dataframe tbody tr th:only-of-type {\n",
       "        vertical-align: middle;\n",
       "    }\n",
       "\n",
       "    .dataframe tbody tr th {\n",
       "        vertical-align: top;\n",
       "    }\n",
       "\n",
       "    .dataframe thead th {\n",
       "        text-align: right;\n",
       "    }\n",
       "</style>\n",
       "<table border=\"1\" class=\"dataframe\">\n",
       "  <thead>\n",
       "    <tr style=\"text-align: right;\">\n",
       "      <th></th>\n",
       "      <th>label</th>\n",
       "      <th>counts</th>\n",
       "    </tr>\n",
       "  </thead>\n",
       "  <tbody>\n",
       "    <tr>\n",
       "      <th>0</th>\n",
       "      <td>not outlier</td>\n",
       "      <td>75944</td>\n",
       "    </tr>\n",
       "    <tr>\n",
       "      <th>1</th>\n",
       "      <td>outlier</td>\n",
       "      <td>7646</td>\n",
       "    </tr>\n",
       "  </tbody>\n",
       "</table>\n",
       "</div>"
      ],
      "text/plain": [
       "         label  counts\n",
       "0  not outlier   75944\n",
       "1      outlier    7646"
      ]
     },
     "execution_count": 53,
     "metadata": {},
     "output_type": "execute_result"
    }
   ],
   "source": [
    "%%bigquery\n",
    "select label,count(label)counts\n",
    "from (SELECT\n",
    "   data.Age,\n",
    "   case\n",
    "      when data.Age between mean - 2 * stdev and mean + 2 * stdev \n",
    "         then 'not outlier'\n",
    "      else 'outlier'\n",
    "   end label,\n",
    "   mean - 2 * stdev lower_bound,\n",
    "   mean + 2 * stdev upper_bound\n",
    "FROM `ba775-a09-fall22.hotelcustomerdataset.hotelcustomersdatasetcleaned` AS data\n",
    "CROSS JOIN \n",
    "   (\n",
    "    SELECT\n",
    "      avg(data.Age) mean,\n",
    "      stddev_samp(data.Age) stdev \n",
    "    FROM `ba775-a09-fall22.hotelcustomerdataset.hotelcustomersdatasetcleaned` AS data ) mean_sd\n",
    "ORDER BY label DESC)\n",
    "group by label;"
   ]
  },
  {
   "cell_type": "markdown",
   "id": "ee4fef51-3cef-41ff-864f-4c0cd4f5b37e",
   "metadata": {
    "jp-MarkdownHeadingCollapsed": true,
    "tags": []
   },
   "source": [
    "#### Create a new table \n",
    "Exclude outliers in \"Age\", \"DaysSinceLastStay\" and \"DaysSinceFirstStay\", to drop null values and unusual values in \"Age\" and customers who have never stayed in this hotel before(\"DaysSinceLastStay\"= -1, \"DaysSinceFirstStay\"= -1).<br>\n",
    "Add new columns of \"AgeRange\", \"Country\"(full name of Nationality) and \"TotalRevenue\"(sum of \"LodgingRevenue\" and \"OtherRevenue\").<br>\n",
    "The new table `hotelcustomerdataset.hotelcustomersdatasetcleaned_2` will be used in the following parts of our analysis."
   ]
  },
  {
   "cell_type": "code",
   "execution_count": 3,
   "id": "86f41896-4a56-421c-b8b7-9a827a32bf6b",
   "metadata": {},
   "outputs": [
    {
     "name": "stderr",
     "output_type": "stream",
     "text": [
      "Query complete after 0.00s: 100%|██████████| 6/6 [00:00<00:00, 2074.33query/s]                        \n"
     ]
    },
    {
     "data": {
      "text/html": [
       "<div>\n",
       "<style scoped>\n",
       "    .dataframe tbody tr th:only-of-type {\n",
       "        vertical-align: middle;\n",
       "    }\n",
       "\n",
       "    .dataframe tbody tr th {\n",
       "        vertical-align: top;\n",
       "    }\n",
       "\n",
       "    .dataframe thead th {\n",
       "        text-align: right;\n",
       "    }\n",
       "</style>\n",
       "<table border=\"1\" class=\"dataframe\">\n",
       "  <thead>\n",
       "    <tr style=\"text-align: right;\">\n",
       "      <th></th>\n",
       "    </tr>\n",
       "  </thead>\n",
       "  <tbody>\n",
       "  </tbody>\n",
       "</table>\n",
       "</div>"
      ],
      "text/plain": [
       "Empty DataFrame\n",
       "Columns: []\n",
       "Index: []"
      ]
     },
     "execution_count": 3,
     "metadata": {},
     "output_type": "execute_result"
    }
   ],
   "source": [
    "%%bigquery\n",
    "CREATE or replace Table `ba775-a09-fall22.hotelcustomerdataset.hotelcustomersdatasetcleaned_2`\n",
    "as \n",
    "select \n",
    "A.ID,\n",
    "Nationality,\n",
    "C.Country,\n",
    "Age,\n",
    "cast(B.AgeRange as STRING) AgeRange,\n",
    "DaysSinceCreation,\n",
    "AverageLeadTime,\n",
    "LodgingRevenue,\n",
    "OtherRevenue,\n",
    "LodgingRevenue+OtherRevenue as TotalRevenue,\n",
    "BookingsCanceled,\n",
    "BookingsNoShowed,\n",
    "BookingsCheckedIn,\n",
    "PersonsNights,\n",
    "RoomNights,\n",
    "DaysSinceLastStay,\n",
    "DaysSinceFirstStay,\n",
    "DistributionChannel,\n",
    "MarketSegment,\n",
    "SRHighFloor,\n",
    "SRLowFloor,\n",
    "SRAccessibleRoom,\n",
    "SRMediumFloor,\n",
    "SRBathtub,\n",
    "SRShower,\n",
    "SRCrib,\n",
    "SRKingSizeBed,\n",
    "SRTwinBed,\n",
    "SRNearElevator,\n",
    "SRAwayFromElevator,\n",
    "SRNoAlcoholInMiniBar,\n",
    "SRQuietRoom\n",
    "from ( (select *\n",
    "from `ba775-a09-fall22.hotelcustomerdataset.hotelcustomersdatasetcleaned`\n",
    "where Age is not null\n",
    "and Age > 12\n",
    "and Age < 79\n",
    "and DaysSinceLastStay != -1\n",
    "and DaysSinceFirstStay != -1) A\n",
    "left join\n",
    "(SELECT ID, \n",
    "Case when Age > 10 and Age < 20 then '10s'\n",
    "     when Age >= 20 and Age < 30 then '20s'\n",
    "     when Age >= 30 and Age < 40 then '30s'\n",
    "     when Age >= 40 and Age < 50 then '40s'\n",
    "     when Age >= 50 and Age < 60 then '50s'\n",
    "     when Age >= 60 and Age < 70 then '60s'\n",
    "     Else '70s' END as AgeRange\n",
    "FROM `ba775-a09-fall22.hotelcustomerdataset.hotelcustomersdatasetcleaned`)B\n",
    "on A.ID=B.ID)\n",
    "left join\n",
    "(\n",
    " SELECT country as Country, country_code\n",
    " FROM `bigquery-public-data.world_bank_global_population.population_by_country`\n",
    ") C\n",
    "ON A.Nationality=C.country_code;"
   ]
  },
  {
   "cell_type": "markdown",
   "id": "fb0cde1d-0153-41fa-bc7e-ab0560a77cf3",
   "metadata": {
    "tags": []
   },
   "source": [
    "## Part 3  Exploratory Data Analysis"
   ]
  },
  {
   "cell_type": "markdown",
   "id": "8fcc0e78-ea2f-4e34-b098-a0edb231412b",
   "metadata": {},
   "source": [
    "Our EDA focus on the following features: \n",
    "\n",
    "**Demographic Information**: \n",
    "- Age\n",
    "- Nationality\n",
    "\n",
    "\n",
    "**Revenue Generated**: \n",
    "\n",
    "- Revenue generated from price of room\n",
    "\n",
    "\n",
    "**Booking Information**: \n",
    "\n",
    "- Booking distribution channel \n",
    "- Booking lead time (booking time ahead of arrival) \n",
    "- Repeated booking from same customer \n",
    "- Special requests "
   ]
  },
  {
   "cell_type": "markdown",
   "id": "2fdff66b-eb4b-4c44-b267-d05fe55eed98",
   "metadata": {
    "jp-MarkdownHeadingCollapsed": true,
    "tags": []
   },
   "source": [
    "### Demographic Information -- Age "
   ]
  },
  {
   "cell_type": "markdown",
   "id": "4e72b0d6-7e7a-4713-8c4d-383e39481a38",
   "metadata": {},
   "source": [
    "**Which age group should be targeted to maximize total revenue?**"
   ]
  },
  {
   "cell_type": "code",
   "execution_count": 59,
   "id": "02aa17d7-e4f9-443b-bed3-db3462264615",
   "metadata": {},
   "outputs": [
    {
     "name": "stderr",
     "output_type": "stream",
     "text": [
      "Query complete after 0.00s: 100%|██████████| 5/5 [00:00<00:00, 1362.23query/s]                        \n",
      "Downloading: 100%|██████████| 7/7 [00:01<00:00,  5.73rows/s]\n"
     ]
    },
    {
     "data": {
      "text/html": [
       "<div>\n",
       "<style scoped>\n",
       "    .dataframe tbody tr th:only-of-type {\n",
       "        vertical-align: middle;\n",
       "    }\n",
       "\n",
       "    .dataframe tbody tr th {\n",
       "        vertical-align: top;\n",
       "    }\n",
       "\n",
       "    .dataframe thead th {\n",
       "        text-align: right;\n",
       "    }\n",
       "</style>\n",
       "<table border=\"1\" class=\"dataframe\">\n",
       "  <thead>\n",
       "    <tr style=\"text-align: right;\">\n",
       "      <th></th>\n",
       "      <th>AgeRange</th>\n",
       "      <th>total_revenue</th>\n",
       "      <th>Percentage_Of_Total_Revenue</th>\n",
       "    </tr>\n",
       "  </thead>\n",
       "  <tbody>\n",
       "    <tr>\n",
       "      <th>0</th>\n",
       "      <td>50s</td>\n",
       "      <td>7253303.44</td>\n",
       "      <td>25.11</td>\n",
       "    </tr>\n",
       "    <tr>\n",
       "      <th>1</th>\n",
       "      <td>40s</td>\n",
       "      <td>7005467.78</td>\n",
       "      <td>24.26</td>\n",
       "    </tr>\n",
       "    <tr>\n",
       "      <th>2</th>\n",
       "      <td>30s</td>\n",
       "      <td>5269102.34</td>\n",
       "      <td>18.24</td>\n",
       "    </tr>\n",
       "    <tr>\n",
       "      <th>3</th>\n",
       "      <td>60s</td>\n",
       "      <td>3850725.98</td>\n",
       "      <td>13.33</td>\n",
       "    </tr>\n",
       "    <tr>\n",
       "      <th>4</th>\n",
       "      <td>20s</td>\n",
       "      <td>3038191.01</td>\n",
       "      <td>10.52</td>\n",
       "    </tr>\n",
       "    <tr>\n",
       "      <th>5</th>\n",
       "      <td>70s</td>\n",
       "      <td>1665373.38</td>\n",
       "      <td>5.77</td>\n",
       "    </tr>\n",
       "    <tr>\n",
       "      <th>6</th>\n",
       "      <td>10s</td>\n",
       "      <td>800131.74</td>\n",
       "      <td>2.77</td>\n",
       "    </tr>\n",
       "  </tbody>\n",
       "</table>\n",
       "</div>"
      ],
      "text/plain": [
       "  AgeRange  total_revenue  Percentage_Of_Total_Revenue\n",
       "0      50s     7253303.44                        25.11\n",
       "1      40s     7005467.78                        24.26\n",
       "2      30s     5269102.34                        18.24\n",
       "3      60s     3850725.98                        13.33\n",
       "4      20s     3038191.01                        10.52\n",
       "5      70s     1665373.38                         5.77\n",
       "6      10s      800131.74                         2.77"
      ]
     },
     "execution_count": 59,
     "metadata": {},
     "output_type": "execute_result"
    }
   ],
   "source": [
    "%%bigquery\n",
    "SELECT AgeRange,\n",
    "    SUM(TotalRevenue) AS total_revenue,\n",
    "    ROUND(SUM(TotalRevenue)/\n",
    "    (SELECT SUM(TotalRevenue) FROM ba775-a09-fall22.hotelcustomerdataset.hotelcustomersdatasetcleaned_2)*100,2) AS Percentage_Of_Total_Revenue,\n",
    "FROM ba775-a09-fall22.hotelcustomerdataset.hotelcustomersdatasetcleaned_2\n",
    "GROUP BY AgeRange\n",
    "ORDER BY total_revenue DESC;"
   ]
  },
  {
   "cell_type": "markdown",
   "id": "89f408ba-b27a-4a08-a75d-b89b5086d0d6",
   "metadata": {},
   "source": [
    "Approximately 50% of hotel's total revenue comes from customers in their 40s or 50s. <br>"
   ]
  },
  {
   "cell_type": "markdown",
   "id": "75bda65c-ccea-478d-9033-cd0a3e15d336",
   "metadata": {},
   "source": [
    "**What is revenue per booking generated by customers from different age groups?**"
   ]
  },
  {
   "cell_type": "code",
   "execution_count": 140,
   "id": "fe2f2b10-4487-4c2b-a622-6dc66d01c4a1",
   "metadata": {},
   "outputs": [
    {
     "name": "stderr",
     "output_type": "stream",
     "text": [
      "Query complete after 0.00s: 100%|██████████| 2/2 [00:00<00:00, 1138.52query/s]                        \n",
      "Downloading: 100%|██████████| 7/7 [00:01<00:00,  4.76rows/s]\n"
     ]
    },
    {
     "data": {
      "text/html": [
       "<div>\n",
       "<style scoped>\n",
       "    .dataframe tbody tr th:only-of-type {\n",
       "        vertical-align: middle;\n",
       "    }\n",
       "\n",
       "    .dataframe tbody tr th {\n",
       "        vertical-align: top;\n",
       "    }\n",
       "\n",
       "    .dataframe thead th {\n",
       "        text-align: right;\n",
       "    }\n",
       "</style>\n",
       "<table border=\"1\" class=\"dataframe\">\n",
       "  <thead>\n",
       "    <tr style=\"text-align: right;\">\n",
       "      <th></th>\n",
       "      <th>AgeRange</th>\n",
       "      <th>total_revenue</th>\n",
       "      <th>Number_of_bookings</th>\n",
       "      <th>Revenue_per_booking</th>\n",
       "    </tr>\n",
       "  </thead>\n",
       "  <tbody>\n",
       "    <tr>\n",
       "      <th>0</th>\n",
       "      <td>60s</td>\n",
       "      <td>3850725.98</td>\n",
       "      <td>8437</td>\n",
       "      <td>456.0</td>\n",
       "    </tr>\n",
       "    <tr>\n",
       "      <th>1</th>\n",
       "      <td>50s</td>\n",
       "      <td>7253303.44</td>\n",
       "      <td>15088</td>\n",
       "      <td>481.0</td>\n",
       "    </tr>\n",
       "    <tr>\n",
       "      <th>2</th>\n",
       "      <td>20s</td>\n",
       "      <td>3038191.01</td>\n",
       "      <td>6412</td>\n",
       "      <td>474.0</td>\n",
       "    </tr>\n",
       "    <tr>\n",
       "      <th>3</th>\n",
       "      <td>40s</td>\n",
       "      <td>7005467.78</td>\n",
       "      <td>14915</td>\n",
       "      <td>470.0</td>\n",
       "    </tr>\n",
       "    <tr>\n",
       "      <th>4</th>\n",
       "      <td>30s</td>\n",
       "      <td>5269102.34</td>\n",
       "      <td>12163</td>\n",
       "      <td>433.0</td>\n",
       "    </tr>\n",
       "    <tr>\n",
       "      <th>5</th>\n",
       "      <td>70s</td>\n",
       "      <td>1665373.38</td>\n",
       "      <td>3753</td>\n",
       "      <td>444.0</td>\n",
       "    </tr>\n",
       "    <tr>\n",
       "      <th>6</th>\n",
       "      <td>10s</td>\n",
       "      <td>800131.74</td>\n",
       "      <td>1092</td>\n",
       "      <td>733.0</td>\n",
       "    </tr>\n",
       "  </tbody>\n",
       "</table>\n",
       "</div>"
      ],
      "text/plain": [
       "  AgeRange  total_revenue  Number_of_bookings  Revenue_per_booking\n",
       "0      60s     3850725.98                8437                456.0\n",
       "1      50s     7253303.44               15088                481.0\n",
       "2      20s     3038191.01                6412                474.0\n",
       "3      40s     7005467.78               14915                470.0\n",
       "4      30s     5269102.34               12163                433.0\n",
       "5      70s     1665373.38                3753                444.0\n",
       "6      10s      800131.74                1092                733.0"
      ]
     },
     "execution_count": 140,
     "metadata": {},
     "output_type": "execute_result"
    }
   ],
   "source": [
    "%%bigquery\n",
    "SELECT AgeRange,\n",
    "    SUM(TotalRevenue) AS total_revenue,\n",
    "    SUM(BookingsCheckedIn) AS Number_of_bookings,\n",
    "    ROUND(SUM(TotalRevenue)/ SUM(BookingsCheckedIn),0) AS Revenue_per_booking\n",
    "FROM ba775-a09-fall22.hotelcustomerdataset.hotelcustomersdatasetcleaned_2\n",
    "GROUP BY AgeRange;"
   ]
  },
  {
   "cell_type": "markdown",
   "id": "427e4a81-da98-4182-a933-3537358f2868",
   "metadata": {},
   "source": [
    "The revenue per booking generated across different age groups is surprisingly higher in the range of 10s. A possible explanation for this is that customers travelling with families are more likely to book bigger / expensive rooms, as well as spend more on utilities such as food."
   ]
  },
  {
   "cell_type": "markdown",
   "id": "042a76b7-0a76-4fbb-9fda-62065df2e859",
   "metadata": {
    "jp-MarkdownHeadingCollapsed": true,
    "tags": []
   },
   "source": [
    "### Demographic Information -- Nationality"
   ]
  },
  {
   "cell_type": "markdown",
   "id": "cfa81400-e344-44f7-b0d7-86d27eac6bca",
   "metadata": {},
   "source": [
    "**Customers from which country have the highest contribution to total revenue?**"
   ]
  },
  {
   "cell_type": "code",
   "execution_count": 57,
   "id": "8c94ec57-99f1-43b5-8eb6-67ba7aee26cd",
   "metadata": {},
   "outputs": [
    {
     "name": "stderr",
     "output_type": "stream",
     "text": [
      "Query complete after 0.00s: 100%|██████████| 1/1 [00:00<00:00, 500.39query/s] \n",
      "Downloading: 100%|██████████| 5/5 [00:01<00:00,  4.65rows/s]\n"
     ]
    },
    {
     "data": {
      "text/html": [
       "<div>\n",
       "<style scoped>\n",
       "    .dataframe tbody tr th:only-of-type {\n",
       "        vertical-align: middle;\n",
       "    }\n",
       "\n",
       "    .dataframe tbody tr th {\n",
       "        vertical-align: top;\n",
       "    }\n",
       "\n",
       "    .dataframe thead th {\n",
       "        text-align: right;\n",
       "    }\n",
       "</style>\n",
       "<table border=\"1\" class=\"dataframe\">\n",
       "  <thead>\n",
       "    <tr style=\"text-align: right;\">\n",
       "      <th></th>\n",
       "      <th>Country</th>\n",
       "      <th>total_revenue</th>\n",
       "      <th>Percentage_Of_Total_Revenue</th>\n",
       "    </tr>\n",
       "  </thead>\n",
       "  <tbody>\n",
       "    <tr>\n",
       "      <th>0</th>\n",
       "      <td>France</td>\n",
       "      <td>4767023.0</td>\n",
       "      <td>16.51</td>\n",
       "    </tr>\n",
       "    <tr>\n",
       "      <th>1</th>\n",
       "      <td>Germany</td>\n",
       "      <td>3692041.0</td>\n",
       "      <td>12.78</td>\n",
       "    </tr>\n",
       "    <tr>\n",
       "      <th>2</th>\n",
       "      <td>United Kingdom</td>\n",
       "      <td>3192975.0</td>\n",
       "      <td>11.06</td>\n",
       "    </tr>\n",
       "    <tr>\n",
       "      <th>3</th>\n",
       "      <td>Portugal</td>\n",
       "      <td>2252467.0</td>\n",
       "      <td>7.80</td>\n",
       "    </tr>\n",
       "    <tr>\n",
       "      <th>4</th>\n",
       "      <td>Spain</td>\n",
       "      <td>1768904.0</td>\n",
       "      <td>6.12</td>\n",
       "    </tr>\n",
       "  </tbody>\n",
       "</table>\n",
       "</div>"
      ],
      "text/plain": [
       "          Country  total_revenue  Percentage_Of_Total_Revenue\n",
       "0          France      4767023.0                        16.51\n",
       "1         Germany      3692041.0                        12.78\n",
       "2  United Kingdom      3192975.0                        11.06\n",
       "3        Portugal      2252467.0                         7.80\n",
       "4           Spain      1768904.0                         6.12"
      ]
     },
     "execution_count": 57,
     "metadata": {},
     "output_type": "execute_result"
    }
   ],
   "source": [
    "%%bigquery\n",
    "SELECT Country, \n",
    "    ROUND(SUM(TotalRevenue),0) AS total_revenue, \n",
    "    ROUND(SUM(TotalRevenue)/\n",
    "    (SELECT SUM(TotalRevenue) FROM ba775-a09-fall22.hotelcustomerdataset.hotelcustomersdatasetcleaned_2)*100,2) AS `Percentage_Of_Total_Revenue`,\n",
    "FROM ba775-a09-fall22.hotelcustomerdataset.hotelcustomersdatasetcleaned_2\n",
    "GROUP BY Country\n",
    "ORDER BY total_revenue DESC\n",
    "LIMIT 5"
   ]
  },
  {
   "cell_type": "markdown",
   "id": "2c4b3202-25af-4ea7-9894-d7c9244965bc",
   "metadata": {},
   "source": [
    "16.51% of the hotel's revenue comes from customers based in France, followed by Germany, and UK. So the marketing strategies should be focussed on travellers from these locations."
   ]
  },
  {
   "cell_type": "markdown",
   "id": "2e9b5897-39ef-4f42-bf66-45fbc16ea81b",
   "metadata": {},
   "source": [
    "**Travellers from which country contribute to the highest revenue per booking?**"
   ]
  },
  {
   "cell_type": "code",
   "execution_count": 58,
   "id": "1f214940-0f77-47a5-a649-aa00fa898acf",
   "metadata": {},
   "outputs": [
    {
     "name": "stderr",
     "output_type": "stream",
     "text": [
      "Query complete after 0.00s: 100%|██████████| 3/3 [00:00<00:00, 360.14query/s]                         \n",
      "Downloading: 100%|██████████| 5/5 [00:01<00:00,  3.65rows/s]\n"
     ]
    },
    {
     "data": {
      "text/html": [
       "<div>\n",
       "<style scoped>\n",
       "    .dataframe tbody tr th:only-of-type {\n",
       "        vertical-align: middle;\n",
       "    }\n",
       "\n",
       "    .dataframe tbody tr th {\n",
       "        vertical-align: top;\n",
       "    }\n",
       "\n",
       "    .dataframe thead th {\n",
       "        text-align: right;\n",
       "    }\n",
       "</style>\n",
       "<table border=\"1\" class=\"dataframe\">\n",
       "  <thead>\n",
       "    <tr style=\"text-align: right;\">\n",
       "      <th></th>\n",
       "      <th>Country</th>\n",
       "      <th>total_revenue</th>\n",
       "      <th>Number_of_bookings</th>\n",
       "      <th>Revenue_per_booking</th>\n",
       "    </tr>\n",
       "  </thead>\n",
       "  <tbody>\n",
       "    <tr>\n",
       "      <th>0</th>\n",
       "      <td>France</td>\n",
       "      <td>4767023.0</td>\n",
       "      <td>9389</td>\n",
       "      <td>508.0</td>\n",
       "    </tr>\n",
       "    <tr>\n",
       "      <th>1</th>\n",
       "      <td>Germany</td>\n",
       "      <td>3692041.0</td>\n",
       "      <td>7567</td>\n",
       "      <td>488.0</td>\n",
       "    </tr>\n",
       "    <tr>\n",
       "      <th>2</th>\n",
       "      <td>United Kingdom</td>\n",
       "      <td>3192975.0</td>\n",
       "      <td>6524</td>\n",
       "      <td>489.0</td>\n",
       "    </tr>\n",
       "    <tr>\n",
       "      <th>3</th>\n",
       "      <td>Portugal</td>\n",
       "      <td>2252467.0</td>\n",
       "      <td>7923</td>\n",
       "      <td>284.0</td>\n",
       "    </tr>\n",
       "    <tr>\n",
       "      <th>4</th>\n",
       "      <td>Spain</td>\n",
       "      <td>1768904.0</td>\n",
       "      <td>4022</td>\n",
       "      <td>440.0</td>\n",
       "    </tr>\n",
       "  </tbody>\n",
       "</table>\n",
       "</div>"
      ],
      "text/plain": [
       "          Country  total_revenue  Number_of_bookings  Revenue_per_booking\n",
       "0          France      4767023.0                9389                508.0\n",
       "1         Germany      3692041.0                7567                488.0\n",
       "2  United Kingdom      3192975.0                6524                489.0\n",
       "3        Portugal      2252467.0                7923                284.0\n",
       "4           Spain      1768904.0                4022                440.0"
      ]
     },
     "execution_count": 58,
     "metadata": {},
     "output_type": "execute_result"
    }
   ],
   "source": [
    "%%bigquery\n",
    "SELECT Country, \n",
    "    ROUND(SUM(TotalRevenue),0) AS total_revenue, \n",
    "    SUM(BookingsCheckedIn) AS Number_of_bookings,\n",
    "    ROUND(SUM(TotalRevenue)/ SUM(BookingsCheckedIn),0) AS Revenue_per_booking\n",
    "FROM ba775-a09-fall22.hotelcustomerdataset.hotelcustomersdatasetcleaned_2\n",
    "GROUP BY Country\n",
    "ORDER BY total_revenue DESC\n",
    "LIMIT 5"
   ]
  },
  {
   "cell_type": "markdown",
   "id": "e290f410-1b28-49a4-b906-839aa4edb382",
   "metadata": {},
   "source": [
    "Following the same trend as that of total revenue, customers from France have generated the highest revenue per booking. <br><br>"
   ]
  },
  {
   "cell_type": "markdown",
   "id": "2147cc7e-32fe-474f-9e11-f40ba03c6dae",
   "metadata": {
    "jp-MarkdownHeadingCollapsed": true,
    "tags": []
   },
   "source": [
    "### Revenue Generated"
   ]
  },
  {
   "cell_type": "markdown",
   "id": "fdd537e3-54fd-4b46-bbd3-9a3ce9b8fdaa",
   "metadata": {},
   "source": [
    "**What is the average price paid per room (in euros)?**"
   ]
  },
  {
   "cell_type": "code",
   "execution_count": 72,
   "id": "11b62757-38a0-4ec4-824e-fc90493790e9",
   "metadata": {},
   "outputs": [
    {
     "name": "stderr",
     "output_type": "stream",
     "text": [
      "Query complete after 0.00s: 100%|██████████| 2/2 [00:00<00:00, 1068.34query/s]                        \n",
      "Downloading: 100%|██████████| 1/1 [00:01<00:00,  1.23s/rows]\n"
     ]
    },
    {
     "data": {
      "text/html": [
       "<div>\n",
       "<style scoped>\n",
       "    .dataframe tbody tr th:only-of-type {\n",
       "        vertical-align: middle;\n",
       "    }\n",
       "\n",
       "    .dataframe tbody tr th {\n",
       "        vertical-align: top;\n",
       "    }\n",
       "\n",
       "    .dataframe thead th {\n",
       "        text-align: right;\n",
       "    }\n",
       "</style>\n",
       "<table border=\"1\" class=\"dataframe\">\n",
       "  <thead>\n",
       "    <tr style=\"text-align: right;\">\n",
       "      <th></th>\n",
       "      <th>Avg_price_per_room</th>\n",
       "    </tr>\n",
       "  </thead>\n",
       "  <tbody>\n",
       "    <tr>\n",
       "      <th>0</th>\n",
       "      <td>155.648524</td>\n",
       "    </tr>\n",
       "  </tbody>\n",
       "</table>\n",
       "</div>"
      ],
      "text/plain": [
       "   Avg_price_per_room\n",
       "0          155.648524"
      ]
     },
     "execution_count": 72,
     "metadata": {},
     "output_type": "execute_result"
    }
   ],
   "source": [
    "%%bigquery\n",
    "SELECT SUM(TotalRevenue)/SUM(RoomNights) AS Avg_price_per_room\n",
    "FROM ba775-a09-fall22.hotelcustomerdataset.hotelcustomersdatasetcleaned_2; "
   ]
  },
  {
   "cell_type": "markdown",
   "id": "aa0542d9-455f-48d8-a850-533d45e95898",
   "metadata": {},
   "source": [
    "The average price paid per room across all travellers for the years 2015-2018 is 155.64 euros. "
   ]
  },
  {
   "cell_type": "markdown",
   "id": "165f7c52-5663-4d06-b63f-d964a68efd5c",
   "metadata": {},
   "source": [
    "**Travelers from which country tend to pay the highest average price per room?**"
   ]
  },
  {
   "cell_type": "code",
   "execution_count": 136,
   "id": "760f9a79-b4a7-4b97-b65a-7a7a5e5857df",
   "metadata": {},
   "outputs": [
    {
     "name": "stderr",
     "output_type": "stream",
     "text": [
      "Query complete after 0.01s: 100%|██████████| 1/1 [00:00<00:00, 400.64query/s] \n",
      "Downloading: 100%|██████████| 10/10 [00:01<00:00,  6.02rows/s]\n"
     ]
    },
    {
     "data": {
      "text/html": [
       "<div>\n",
       "<style scoped>\n",
       "    .dataframe tbody tr th:only-of-type {\n",
       "        vertical-align: middle;\n",
       "    }\n",
       "\n",
       "    .dataframe tbody tr th {\n",
       "        vertical-align: top;\n",
       "    }\n",
       "\n",
       "    .dataframe thead th {\n",
       "        text-align: right;\n",
       "    }\n",
       "</style>\n",
       "<table border=\"1\" class=\"dataframe\">\n",
       "  <thead>\n",
       "    <tr style=\"text-align: right;\">\n",
       "      <th></th>\n",
       "      <th>Avg_PricePerRoom</th>\n",
       "      <th>Country</th>\n",
       "      <th>Number_of_Bookings</th>\n",
       "    </tr>\n",
       "  </thead>\n",
       "  <tbody>\n",
       "    <tr>\n",
       "      <th>0</th>\n",
       "      <td>478.94</td>\n",
       "      <td>Namibia</td>\n",
       "      <td>6</td>\n",
       "    </tr>\n",
       "    <tr>\n",
       "      <th>1</th>\n",
       "      <td>462.00</td>\n",
       "      <td>Sao Tome and Principe</td>\n",
       "      <td>1</td>\n",
       "    </tr>\n",
       "    <tr>\n",
       "      <th>2</th>\n",
       "      <td>401.81</td>\n",
       "      <td>Mali</td>\n",
       "      <td>4</td>\n",
       "    </tr>\n",
       "    <tr>\n",
       "      <th>3</th>\n",
       "      <td>369.00</td>\n",
       "      <td>Zimbabwe</td>\n",
       "      <td>1</td>\n",
       "    </tr>\n",
       "    <tr>\n",
       "      <th>4</th>\n",
       "      <td>349.38</td>\n",
       "      <td>Andorra</td>\n",
       "      <td>2</td>\n",
       "    </tr>\n",
       "    <tr>\n",
       "      <th>5</th>\n",
       "      <td>336.80</td>\n",
       "      <td>Gibraltar</td>\n",
       "      <td>2</td>\n",
       "    </tr>\n",
       "    <tr>\n",
       "      <th>6</th>\n",
       "      <td>324.14</td>\n",
       "      <td>Cuba</td>\n",
       "      <td>7</td>\n",
       "    </tr>\n",
       "    <tr>\n",
       "      <th>7</th>\n",
       "      <td>279.22</td>\n",
       "      <td>Congo, Dem. Rep.</td>\n",
       "      <td>2</td>\n",
       "    </tr>\n",
       "    <tr>\n",
       "      <th>8</th>\n",
       "      <td>274.75</td>\n",
       "      <td>Cayman Islands</td>\n",
       "      <td>1</td>\n",
       "    </tr>\n",
       "    <tr>\n",
       "      <th>9</th>\n",
       "      <td>269.75</td>\n",
       "      <td>Faroe Islands</td>\n",
       "      <td>1</td>\n",
       "    </tr>\n",
       "  </tbody>\n",
       "</table>\n",
       "</div>"
      ],
      "text/plain": [
       "   Avg_PricePerRoom                Country  Number_of_Bookings\n",
       "0            478.94                Namibia                   6\n",
       "1            462.00  Sao Tome and Principe                   1\n",
       "2            401.81                   Mali                   4\n",
       "3            369.00               Zimbabwe                   1\n",
       "4            349.38                Andorra                   2\n",
       "5            336.80              Gibraltar                   2\n",
       "6            324.14                   Cuba                   7\n",
       "7            279.22       Congo, Dem. Rep.                   2\n",
       "8            274.75         Cayman Islands                   1\n",
       "9            269.75          Faroe Islands                   1"
      ]
     },
     "execution_count": 136,
     "metadata": {},
     "output_type": "execute_result"
    }
   ],
   "source": [
    "%%bigquery\n",
    "SELECT ROUND(AVG(TotalRevenue/RoomNights),2) AS Avg_PricePerRoom, Country, COUNT(ID) AS Number_of_Bookings\n",
    "FROM ba775-a09-fall22.hotelcustomerdataset.hotelcustomersdatasetcleaned_2 \n",
    "GROUP BY Country\n",
    "ORDER BY Avg_PricePerRoom DESC\n",
    "LIMIT 10;"
   ]
  },
  {
   "cell_type": "markdown",
   "id": "536e9a9c-7d64-49b6-906e-1a98e879a249",
   "metadata": {},
   "source": [
    "Nambia, with an average price of 478.94 euros. However, it is important to note that the number of bookings from these countries is significantly low. Thus, to increase revenue, marketing strategies must be aimed at increasing travellers from these 10 countries. "
   ]
  },
  {
   "cell_type": "markdown",
   "id": "ab9b5a38-db60-4eda-937b-9dca66aaa090",
   "metadata": {},
   "source": [
    "**Among the top 10 countries that contribute most to the hotel's bookings, travellers from which country pay the highest average price per room?**"
   ]
  },
  {
   "cell_type": "code",
   "execution_count": 137,
   "id": "493c0a0b-ae67-42d8-b229-03e12966bdc7",
   "metadata": {},
   "outputs": [
    {
     "name": "stderr",
     "output_type": "stream",
     "text": [
      "Query complete after 0.00s: 100%|██████████| 3/3 [00:00<00:00, 653.73query/s]                         \n",
      "Downloading: 100%|██████████| 10/10 [00:01<00:00,  7.38rows/s]\n"
     ]
    },
    {
     "data": {
      "text/html": [
       "<div>\n",
       "<style scoped>\n",
       "    .dataframe tbody tr th:only-of-type {\n",
       "        vertical-align: middle;\n",
       "    }\n",
       "\n",
       "    .dataframe tbody tr th {\n",
       "        vertical-align: top;\n",
       "    }\n",
       "\n",
       "    .dataframe thead th {\n",
       "        text-align: right;\n",
       "    }\n",
       "</style>\n",
       "<table border=\"1\" class=\"dataframe\">\n",
       "  <thead>\n",
       "    <tr style=\"text-align: right;\">\n",
       "      <th></th>\n",
       "      <th>Avg_PricePerRoom</th>\n",
       "      <th>Country</th>\n",
       "    </tr>\n",
       "  </thead>\n",
       "  <tbody>\n",
       "    <tr>\n",
       "      <th>0</th>\n",
       "      <td>171.75</td>\n",
       "      <td>Netherlands</td>\n",
       "    </tr>\n",
       "    <tr>\n",
       "      <th>1</th>\n",
       "      <td>171.59</td>\n",
       "      <td>Belgium</td>\n",
       "    </tr>\n",
       "    <tr>\n",
       "      <th>2</th>\n",
       "      <td>167.97</td>\n",
       "      <td>United States</td>\n",
       "    </tr>\n",
       "    <tr>\n",
       "      <th>3</th>\n",
       "      <td>164.69</td>\n",
       "      <td>Spain</td>\n",
       "    </tr>\n",
       "    <tr>\n",
       "      <th>4</th>\n",
       "      <td>163.24</td>\n",
       "      <td>United Kingdom</td>\n",
       "    </tr>\n",
       "    <tr>\n",
       "      <th>5</th>\n",
       "      <td>159.25</td>\n",
       "      <td>Italy</td>\n",
       "    </tr>\n",
       "    <tr>\n",
       "      <th>6</th>\n",
       "      <td>157.16</td>\n",
       "      <td>France</td>\n",
       "    </tr>\n",
       "    <tr>\n",
       "      <th>7</th>\n",
       "      <td>153.60</td>\n",
       "      <td>Brazil</td>\n",
       "    </tr>\n",
       "    <tr>\n",
       "      <th>8</th>\n",
       "      <td>149.44</td>\n",
       "      <td>Germany</td>\n",
       "    </tr>\n",
       "    <tr>\n",
       "      <th>9</th>\n",
       "      <td>143.19</td>\n",
       "      <td>Portugal</td>\n",
       "    </tr>\n",
       "  </tbody>\n",
       "</table>\n",
       "</div>"
      ],
      "text/plain": [
       "   Avg_PricePerRoom         Country\n",
       "0            171.75     Netherlands\n",
       "1            171.59         Belgium\n",
       "2            167.97   United States\n",
       "3            164.69           Spain\n",
       "4            163.24  United Kingdom\n",
       "5            159.25           Italy\n",
       "6            157.16          France\n",
       "7            153.60          Brazil\n",
       "8            149.44         Germany\n",
       "9            143.19        Portugal"
      ]
     },
     "execution_count": 137,
     "metadata": {},
     "output_type": "execute_result"
    }
   ],
   "source": [
    "%%bigquery\n",
    "SELECT ROUND(AVG(TotalRevenue/RoomNights),2) AS Avg_PricePerRoom, Country\n",
    "FROM ba775-a09-fall22.hotelcustomerdataset.hotelcustomersdatasetcleaned_2 \n",
    "GROUP BY Country\n",
    "HAVING COUNT(ID)>=1969\n",
    "ORDER BY Avg_PricePerRoom DESC;"
   ]
  },
  {
   "cell_type": "markdown",
   "id": "126c5dec-48ef-4132-bdf7-80ea7b2c9cc4",
   "metadata": {},
   "source": [
    "Travellers from Netherlands, which has a total of 2037 bookings from the years 2015 to 2018, pay the highest average price per room of 171.75 euros."
   ]
  },
  {
   "cell_type": "markdown",
   "id": "6e55f9c9-3156-4fa3-af32-b703a4535d69",
   "metadata": {
    "jp-MarkdownHeadingCollapsed": true,
    "tags": []
   },
   "source": [
    "### Booking Information -- Booking distribution channel"
   ]
  },
  {
   "cell_type": "markdown",
   "id": "1adf393c-afc1-410a-8013-6aee3a3d2f00",
   "metadata": {},
   "source": [
    "**Which is the most profitable distribution channel?**"
   ]
  },
  {
   "cell_type": "code",
   "execution_count": 61,
   "id": "04cdd67c-a286-42bd-9e7e-f8d1cadb2dcc",
   "metadata": {},
   "outputs": [
    {
     "name": "stderr",
     "output_type": "stream",
     "text": [
      "Query complete after 0.00s: 100%|██████████| 5/5 [00:00<00:00, 2547.56query/s]                        \n",
      "Downloading: 100%|██████████| 4/4 [00:01<00:00,  2.68rows/s]\n"
     ]
    },
    {
     "data": {
      "text/html": [
       "<div>\n",
       "<style scoped>\n",
       "    .dataframe tbody tr th:only-of-type {\n",
       "        vertical-align: middle;\n",
       "    }\n",
       "\n",
       "    .dataframe tbody tr th {\n",
       "        vertical-align: top;\n",
       "    }\n",
       "\n",
       "    .dataframe thead th {\n",
       "        text-align: right;\n",
       "    }\n",
       "</style>\n",
       "<table border=\"1\" class=\"dataframe\">\n",
       "  <thead>\n",
       "    <tr style=\"text-align: right;\">\n",
       "      <th></th>\n",
       "      <th>DistributionChannel</th>\n",
       "      <th>Total_Revenue</th>\n",
       "      <th>Percentage</th>\n",
       "    </tr>\n",
       "  </thead>\n",
       "  <tbody>\n",
       "    <tr>\n",
       "      <th>0</th>\n",
       "      <td>Travel Agent/Operator</td>\n",
       "      <td>23693538.0</td>\n",
       "      <td>82.03</td>\n",
       "    </tr>\n",
       "    <tr>\n",
       "      <th>1</th>\n",
       "      <td>Direct</td>\n",
       "      <td>4121015.0</td>\n",
       "      <td>14.27</td>\n",
       "    </tr>\n",
       "    <tr>\n",
       "      <th>2</th>\n",
       "      <td>Corporate</td>\n",
       "      <td>909255.0</td>\n",
       "      <td>3.15</td>\n",
       "    </tr>\n",
       "    <tr>\n",
       "      <th>3</th>\n",
       "      <td>Electronic Distribution</td>\n",
       "      <td>158488.0</td>\n",
       "      <td>0.55</td>\n",
       "    </tr>\n",
       "  </tbody>\n",
       "</table>\n",
       "</div>"
      ],
      "text/plain": [
       "       DistributionChannel  Total_Revenue  Percentage\n",
       "0    Travel Agent/Operator     23693538.0       82.03\n",
       "1                   Direct      4121015.0       14.27\n",
       "2                Corporate       909255.0        3.15\n",
       "3  Electronic Distribution       158488.0        0.55"
      ]
     },
     "execution_count": 61,
     "metadata": {},
     "output_type": "execute_result"
    }
   ],
   "source": [
    "%%bigquery\n",
    "SELECT DistributionChannel,\n",
    "       ROUND(SUM(TotalRevenue),0) AS Total_Revenue,\n",
    "       ROUND(SUM(TotalRevenue)/\n",
    "       (SELECT SUM(TotalRevenue)\n",
    "        FROM`ba775-a09-fall22.hotelcustomerdataset.hotelcustomersdatasetcleaned_2`)*100,2) AS Percentage\n",
    "FROM `ba775-a09-fall22.hotelcustomerdataset.hotelcustomersdatasetcleaned_2`\n",
    "GROUP BY DistributionChannel\n",
    "ORDER BY Total_Revenue DESC;"
   ]
  },
  {
   "cell_type": "markdown",
   "id": "3d204fde-caa8-46fb-bc23-6480df959502",
   "metadata": {},
   "source": [
    "Travel Agent/ Operator is the most profitable distribution channel for the hotel with 82% of the total revenue coming from the given distribution channel.<br>\n",
    "This is followed by the direct distribution channel, which contributes to 14% of the total revenue. <br>\n",
    "Corporate and Electronic Distribution channels, combined, contribute merely 3.7% to the total revenue."
   ]
  },
  {
   "cell_type": "markdown",
   "id": "2c2b3aef-9a51-4b9e-9dcb-92d580199ce3",
   "metadata": {},
   "source": [
    "**Which distribution channel bring in the highest number of bookings?**"
   ]
  },
  {
   "cell_type": "code",
   "execution_count": 62,
   "id": "4bff2c99-c687-413e-9d71-2bc2f5560d9d",
   "metadata": {},
   "outputs": [
    {
     "name": "stderr",
     "output_type": "stream",
     "text": [
      "Query complete after 0.01s: 100%|██████████| 5/5 [00:00<00:00, 932.19query/s]                         \n",
      "Downloading: 100%|██████████| 4/4 [00:01<00:00,  3.07rows/s]\n"
     ]
    },
    {
     "data": {
      "text/html": [
       "<div>\n",
       "<style scoped>\n",
       "    .dataframe tbody tr th:only-of-type {\n",
       "        vertical-align: middle;\n",
       "    }\n",
       "\n",
       "    .dataframe tbody tr th {\n",
       "        vertical-align: top;\n",
       "    }\n",
       "\n",
       "    .dataframe thead th {\n",
       "        text-align: right;\n",
       "    }\n",
       "</style>\n",
       "<table border=\"1\" class=\"dataframe\">\n",
       "  <thead>\n",
       "    <tr style=\"text-align: right;\">\n",
       "      <th></th>\n",
       "      <th>DistributionChannel</th>\n",
       "      <th>Total_Bookings</th>\n",
       "      <th>Percentage</th>\n",
       "    </tr>\n",
       "  </thead>\n",
       "  <tbody>\n",
       "    <tr>\n",
       "      <th>0</th>\n",
       "      <td>Travel Agent/Operator</td>\n",
       "      <td>49797</td>\n",
       "      <td>80.5</td>\n",
       "    </tr>\n",
       "    <tr>\n",
       "      <th>1</th>\n",
       "      <td>Direct</td>\n",
       "      <td>8351</td>\n",
       "      <td>13.5</td>\n",
       "    </tr>\n",
       "    <tr>\n",
       "      <th>2</th>\n",
       "      <td>Corporate</td>\n",
       "      <td>3217</td>\n",
       "      <td>5.2</td>\n",
       "    </tr>\n",
       "    <tr>\n",
       "      <th>3</th>\n",
       "      <td>Electronic Distribution</td>\n",
       "      <td>495</td>\n",
       "      <td>0.8</td>\n",
       "    </tr>\n",
       "  </tbody>\n",
       "</table>\n",
       "</div>"
      ],
      "text/plain": [
       "       DistributionChannel  Total_Bookings  Percentage\n",
       "0    Travel Agent/Operator           49797        80.5\n",
       "1                   Direct            8351        13.5\n",
       "2                Corporate            3217         5.2\n",
       "3  Electronic Distribution             495         0.8"
      ]
     },
     "execution_count": 62,
     "metadata": {},
     "output_type": "execute_result"
    }
   ],
   "source": [
    "%%bigquery\n",
    "SELECT DistributionChannel,\n",
    "       SUM(BookingsCheckedIn) AS Total_Bookings,\n",
    "       ROUND(SUM(BookingsCheckedIn)/\n",
    "       (SELECT SUM(BookingsCheckedIn)\n",
    "             FROM`ba775-a09-fall22.hotelcustomerdataset.hotelcustomersdatasetcleaned_2`)*100,2) AS Percentage\n",
    "FROM `ba775-a09-fall22.hotelcustomerdataset.hotelcustomersdatasetcleaned_2`\n",
    "GROUP BY DistributionChannel\n",
    "ORDER BY Total_Bookings DESC;"
   ]
  },
  {
   "cell_type": "markdown",
   "id": "e19e0fba-4cb6-4ed5-a84f-30073ca7e77a",
   "metadata": {},
   "source": [
    "80% of the total bookings result from Travel Agents. This is followed by direct distribution channel, which contributes 13.5% to the total number of bookings for the given period. Bookings from corporates count 5% of the total number of bookings.<br>"
   ]
  },
  {
   "cell_type": "markdown",
   "id": "b3e55d80-523e-4cab-b60f-da4502be97a9",
   "metadata": {},
   "source": [
    "**Which distribution channel has the highest revenue per booking?**"
   ]
  },
  {
   "cell_type": "code",
   "execution_count": 139,
   "id": "0956cb00-7e5b-4f73-ad25-d4bead8283b6",
   "metadata": {},
   "outputs": [
    {
     "name": "stderr",
     "output_type": "stream",
     "text": [
      "Query complete after 0.00s: 100%|██████████| 3/3 [00:00<00:00, 1001.98query/s]                        \n",
      "Downloading: 100%|██████████| 4/4 [00:01<00:00,  2.50rows/s]\n"
     ]
    },
    {
     "data": {
      "text/html": [
       "<div>\n",
       "<style scoped>\n",
       "    .dataframe tbody tr th:only-of-type {\n",
       "        vertical-align: middle;\n",
       "    }\n",
       "\n",
       "    .dataframe tbody tr th {\n",
       "        vertical-align: top;\n",
       "    }\n",
       "\n",
       "    .dataframe thead th {\n",
       "        text-align: right;\n",
       "    }\n",
       "</style>\n",
       "<table border=\"1\" class=\"dataframe\">\n",
       "  <thead>\n",
       "    <tr style=\"text-align: right;\">\n",
       "      <th></th>\n",
       "      <th>DistributionChannel</th>\n",
       "      <th>Total_Revenue</th>\n",
       "      <th>Total_Bookings</th>\n",
       "      <th>Revenue_per_booking</th>\n",
       "    </tr>\n",
       "  </thead>\n",
       "  <tbody>\n",
       "    <tr>\n",
       "      <th>0</th>\n",
       "      <td>Direct</td>\n",
       "      <td>4121014.89</td>\n",
       "      <td>8351</td>\n",
       "      <td>493.48</td>\n",
       "    </tr>\n",
       "    <tr>\n",
       "      <th>1</th>\n",
       "      <td>Travel Agent/Operator</td>\n",
       "      <td>23693538.32</td>\n",
       "      <td>49797</td>\n",
       "      <td>475.80</td>\n",
       "    </tr>\n",
       "    <tr>\n",
       "      <th>2</th>\n",
       "      <td>Electronic Distribution</td>\n",
       "      <td>158487.85</td>\n",
       "      <td>495</td>\n",
       "      <td>320.18</td>\n",
       "    </tr>\n",
       "    <tr>\n",
       "      <th>3</th>\n",
       "      <td>Corporate</td>\n",
       "      <td>909254.61</td>\n",
       "      <td>3217</td>\n",
       "      <td>282.64</td>\n",
       "    </tr>\n",
       "  </tbody>\n",
       "</table>\n",
       "</div>"
      ],
      "text/plain": [
       "       DistributionChannel  Total_Revenue  Total_Bookings  Revenue_per_booking\n",
       "0                   Direct     4121014.89            8351               493.48\n",
       "1    Travel Agent/Operator    23693538.32           49797               475.80\n",
       "2  Electronic Distribution      158487.85             495               320.18\n",
       "3                Corporate      909254.61            3217               282.64"
      ]
     },
     "execution_count": 139,
     "metadata": {},
     "output_type": "execute_result"
    }
   ],
   "source": [
    "%%bigquery\n",
    "SELECT  DistributionChannel,\n",
    "       SUM(TotalRevenue) AS Total_Revenue,\n",
    "       SUM(BookingsCheckedIn) AS Total_Bookings,\n",
    "       ROUND(SUM(TotalRevenue)/SUM(BookingsCheckedIn),2) AS Revenue_per_booking\n",
    "FROM `ba775-a09-fall22.hotelcustomerdataset.hotelcustomersdatasetcleaned_2`\n",
    "GROUP BY DistributionChannel\n",
    "ORDER BY Revenue_per_booking DESC;"
   ]
  },
  {
   "cell_type": "markdown",
   "id": "57fc566d-ee90-42d3-94b6-8b6a8f25c9c3",
   "metadata": {},
   "source": [
    "Although the distribution channel 'Travel Agent/ Operator' brings in the highest total revenue and the highest number of bookings, the revenue per booking is higher for the direct distribution channel, indicating that customers via the direct channel either have a preference for high end rooms / services or stay for a longer period of time.<br>"
   ]
  },
  {
   "cell_type": "markdown",
   "id": "04dc9a77-4d59-4f87-ae4f-7f42444febd1",
   "metadata": {},
   "source": [
    "**Which age group do customers booking via Travel Agents belong to?**"
   ]
  },
  {
   "cell_type": "code",
   "execution_count": 64,
   "id": "abb02d4e-88b3-4334-bf38-bcf43ca1e12f",
   "metadata": {},
   "outputs": [
    {
     "name": "stderr",
     "output_type": "stream",
     "text": [
      "Query complete after 0.00s: 100%|██████████| 5/5 [00:00<00:00, 3358.67query/s]                        \n",
      "Downloading: 100%|██████████| 7/7 [00:01<00:00,  5.07rows/s]\n"
     ]
    },
    {
     "data": {
      "text/html": [
       "<div>\n",
       "<style scoped>\n",
       "    .dataframe tbody tr th:only-of-type {\n",
       "        vertical-align: middle;\n",
       "    }\n",
       "\n",
       "    .dataframe tbody tr th {\n",
       "        vertical-align: top;\n",
       "    }\n",
       "\n",
       "    .dataframe thead th {\n",
       "        text-align: right;\n",
       "    }\n",
       "</style>\n",
       "<table border=\"1\" class=\"dataframe\">\n",
       "  <thead>\n",
       "    <tr style=\"text-align: right;\">\n",
       "      <th></th>\n",
       "      <th>DistributionChannel</th>\n",
       "      <th>AgeRange</th>\n",
       "      <th>count_per_agegroup</th>\n",
       "      <th>Percenatge</th>\n",
       "    </tr>\n",
       "  </thead>\n",
       "  <tbody>\n",
       "    <tr>\n",
       "      <th>0</th>\n",
       "      <td>Travel Agent/Operator</td>\n",
       "      <td>50s</td>\n",
       "      <td>11904</td>\n",
       "      <td>24.31</td>\n",
       "    </tr>\n",
       "    <tr>\n",
       "      <th>1</th>\n",
       "      <td>Travel Agent/Operator</td>\n",
       "      <td>40s</td>\n",
       "      <td>11046</td>\n",
       "      <td>22.56</td>\n",
       "    </tr>\n",
       "    <tr>\n",
       "      <th>2</th>\n",
       "      <td>Travel Agent/Operator</td>\n",
       "      <td>30s</td>\n",
       "      <td>9543</td>\n",
       "      <td>19.49</td>\n",
       "    </tr>\n",
       "    <tr>\n",
       "      <th>3</th>\n",
       "      <td>Travel Agent/Operator</td>\n",
       "      <td>60s</td>\n",
       "      <td>7007</td>\n",
       "      <td>14.31</td>\n",
       "    </tr>\n",
       "    <tr>\n",
       "      <th>4</th>\n",
       "      <td>Travel Agent/Operator</td>\n",
       "      <td>20s</td>\n",
       "      <td>5334</td>\n",
       "      <td>10.89</td>\n",
       "    </tr>\n",
       "    <tr>\n",
       "      <th>5</th>\n",
       "      <td>Travel Agent/Operator</td>\n",
       "      <td>70s</td>\n",
       "      <td>3260</td>\n",
       "      <td>6.66</td>\n",
       "    </tr>\n",
       "    <tr>\n",
       "      <th>6</th>\n",
       "      <td>Travel Agent/Operator</td>\n",
       "      <td>10s</td>\n",
       "      <td>866</td>\n",
       "      <td>1.77</td>\n",
       "    </tr>\n",
       "  </tbody>\n",
       "</table>\n",
       "</div>"
      ],
      "text/plain": [
       "     DistributionChannel AgeRange  count_per_agegroup  Percenatge\n",
       "0  Travel Agent/Operator      50s               11904       24.31\n",
       "1  Travel Agent/Operator      40s               11046       22.56\n",
       "2  Travel Agent/Operator      30s                9543       19.49\n",
       "3  Travel Agent/Operator      60s                7007       14.31\n",
       "4  Travel Agent/Operator      20s                5334       10.89\n",
       "5  Travel Agent/Operator      70s                3260        6.66\n",
       "6  Travel Agent/Operator      10s                 866        1.77"
      ]
     },
     "execution_count": 64,
     "metadata": {},
     "output_type": "execute_result"
    }
   ],
   "source": [
    "%%bigquery\n",
    "SELECT DistributionChannel,\n",
    "       AgeRange,\n",
    "       Count(AgeRange) AS count_per_agegroup,\n",
    "       ROUND(Count(AgeRange)/\n",
    "            (SELECT Count(AgeRange) \n",
    "             FROM `ba775-a09-fall22.hotelcustomerdataset.hotelcustomersdatasetcleaned_2`\n",
    "             WHERE DistributionChannel = 'Travel Agent/Operator')*100,2)  AS Percenatge         \n",
    "FROM `ba775-a09-fall22.hotelcustomerdataset.hotelcustomersdatasetcleaned_2`\n",
    "WHERE DistributionChannel = 'Travel Agent/Operator'\n",
    "GROUP BY DistributionChannel, AgeRange\n",
    "ORDER BY count_per_agegroup DESC;"
   ]
  },
  {
   "cell_type": "markdown",
   "id": "7924328d-4fc4-41ed-a2e4-8e6387cd4d7b",
   "metadata": {},
   "source": [
    "Majority of the customers (66%) booking via travel agents are aged between 30 to 60 years."
   ]
  },
  {
   "cell_type": "markdown",
   "id": "c52065a6-86fa-4613-8f4b-dcf13c0a85af",
   "metadata": {},
   "source": [
    "**Which age group do customers booking via the Direct Channel belong to?**"
   ]
  },
  {
   "cell_type": "code",
   "execution_count": 66,
   "id": "0969f3a7-5043-4fbe-ab66-1119b4ccc76f",
   "metadata": {},
   "outputs": [
    {
     "name": "stderr",
     "output_type": "stream",
     "text": [
      "Query complete after 0.00s: 100%|██████████| 1/1 [00:00<00:00, 878.02query/s] \n",
      "Downloading: 100%|██████████| 7/7 [00:01<00:00,  6.74rows/s]\n"
     ]
    },
    {
     "data": {
      "text/html": [
       "<div>\n",
       "<style scoped>\n",
       "    .dataframe tbody tr th:only-of-type {\n",
       "        vertical-align: middle;\n",
       "    }\n",
       "\n",
       "    .dataframe tbody tr th {\n",
       "        vertical-align: top;\n",
       "    }\n",
       "\n",
       "    .dataframe thead th {\n",
       "        text-align: right;\n",
       "    }\n",
       "</style>\n",
       "<table border=\"1\" class=\"dataframe\">\n",
       "  <thead>\n",
       "    <tr style=\"text-align: right;\">\n",
       "      <th></th>\n",
       "      <th>DistributionChannel</th>\n",
       "      <th>AgeRange</th>\n",
       "      <th>count_per_agegroup</th>\n",
       "      <th>Percenatge</th>\n",
       "    </tr>\n",
       "  </thead>\n",
       "  <tbody>\n",
       "    <tr>\n",
       "      <th>0</th>\n",
       "      <td>Direct</td>\n",
       "      <td>40s</td>\n",
       "      <td>2199</td>\n",
       "      <td>28.01</td>\n",
       "    </tr>\n",
       "    <tr>\n",
       "      <th>1</th>\n",
       "      <td>Direct</td>\n",
       "      <td>50s</td>\n",
       "      <td>1817</td>\n",
       "      <td>23.15</td>\n",
       "    </tr>\n",
       "    <tr>\n",
       "      <th>2</th>\n",
       "      <td>Direct</td>\n",
       "      <td>30s</td>\n",
       "      <td>1694</td>\n",
       "      <td>21.58</td>\n",
       "    </tr>\n",
       "    <tr>\n",
       "      <th>3</th>\n",
       "      <td>Direct</td>\n",
       "      <td>60s</td>\n",
       "      <td>893</td>\n",
       "      <td>11.38</td>\n",
       "    </tr>\n",
       "    <tr>\n",
       "      <th>4</th>\n",
       "      <td>Direct</td>\n",
       "      <td>20s</td>\n",
       "      <td>765</td>\n",
       "      <td>9.75</td>\n",
       "    </tr>\n",
       "    <tr>\n",
       "      <th>5</th>\n",
       "      <td>Direct</td>\n",
       "      <td>70s</td>\n",
       "      <td>324</td>\n",
       "      <td>4.13</td>\n",
       "    </tr>\n",
       "    <tr>\n",
       "      <th>6</th>\n",
       "      <td>Direct</td>\n",
       "      <td>10s</td>\n",
       "      <td>158</td>\n",
       "      <td>2.01</td>\n",
       "    </tr>\n",
       "  </tbody>\n",
       "</table>\n",
       "</div>"
      ],
      "text/plain": [
       "  DistributionChannel AgeRange  count_per_agegroup  Percenatge\n",
       "0              Direct      40s                2199       28.01\n",
       "1              Direct      50s                1817       23.15\n",
       "2              Direct      30s                1694       21.58\n",
       "3              Direct      60s                 893       11.38\n",
       "4              Direct      20s                 765        9.75\n",
       "5              Direct      70s                 324        4.13\n",
       "6              Direct      10s                 158        2.01"
      ]
     },
     "execution_count": 66,
     "metadata": {},
     "output_type": "execute_result"
    }
   ],
   "source": [
    "%%bigquery\n",
    "SELECT DistributionChannel,\n",
    "       AgeRange,\n",
    "       Count(AgeRange) AS count_per_agegroup,\n",
    "       ROUND(Count(AgeRange)/\n",
    "            (SELECT Count(AgeRange) \n",
    "             FROM `ba775-a09-fall22.hotelcustomerdataset.hotelcustomersdatasetcleaned_2`\n",
    "             WHERE DistributionChannel = 'Direct')*100,2)  AS Percenatge         \n",
    "FROM `ba775-a09-fall22.hotelcustomerdataset.hotelcustomersdatasetcleaned_2`\n",
    "WHERE DistributionChannel = 'Direct'\n",
    "GROUP BY DistributionChannel, AgeRange\n",
    "ORDER BY count_per_agegroup DESC;"
   ]
  },
  {
   "cell_type": "markdown",
   "id": "b4715153-7ab1-450e-ab47-75dc61c6a559",
   "metadata": {},
   "source": [
    "50% of the customers booking directly are within the age group of 40s to 50s. "
   ]
  },
  {
   "cell_type": "markdown",
   "id": "e29eedde-8b2b-4657-a057-3cc5c13ec5f9",
   "metadata": {
    "jp-MarkdownHeadingCollapsed": true,
    "tags": []
   },
   "source": [
    "### Booking Information -- Booking lead time"
   ]
  },
  {
   "cell_type": "markdown",
   "id": "94e37a98-1d89-4c08-84c5-f7b018851622",
   "metadata": {},
   "source": [
    "**Which age group has the highest or the lowest time lapse between the date of booking and the date of arrival?**"
   ]
  },
  {
   "cell_type": "code",
   "execution_count": 71,
   "id": "62084002-b8e8-4f5d-bfa9-cee46d62c6c1",
   "metadata": {},
   "outputs": [
    {
     "name": "stderr",
     "output_type": "stream",
     "text": [
      "Query complete after 0.00s: 100%|██████████| 3/3 [00:00<00:00, 1819.92query/s]                        \n",
      "Downloading: 100%|██████████| 7/7 [00:01<00:00,  5.80rows/s]\n"
     ]
    },
    {
     "data": {
      "text/html": [
       "<div>\n",
       "<style scoped>\n",
       "    .dataframe tbody tr th:only-of-type {\n",
       "        vertical-align: middle;\n",
       "    }\n",
       "\n",
       "    .dataframe tbody tr th {\n",
       "        vertical-align: top;\n",
       "    }\n",
       "\n",
       "    .dataframe thead th {\n",
       "        text-align: right;\n",
       "    }\n",
       "</style>\n",
       "<table border=\"1\" class=\"dataframe\">\n",
       "  <thead>\n",
       "    <tr style=\"text-align: right;\">\n",
       "      <th></th>\n",
       "      <th>AvgLeadTime</th>\n",
       "      <th>AgeRange</th>\n",
       "    </tr>\n",
       "  </thead>\n",
       "  <tbody>\n",
       "    <tr>\n",
       "      <th>0</th>\n",
       "      <td>158.772777</td>\n",
       "      <td>70s</td>\n",
       "    </tr>\n",
       "    <tr>\n",
       "      <th>1</th>\n",
       "      <td>107.074830</td>\n",
       "      <td>10s</td>\n",
       "    </tr>\n",
       "    <tr>\n",
       "      <th>2</th>\n",
       "      <td>104.810754</td>\n",
       "      <td>60s</td>\n",
       "    </tr>\n",
       "    <tr>\n",
       "      <th>3</th>\n",
       "      <td>86.935446</td>\n",
       "      <td>50s</td>\n",
       "    </tr>\n",
       "    <tr>\n",
       "      <th>4</th>\n",
       "      <td>74.893936</td>\n",
       "      <td>40s</td>\n",
       "    </tr>\n",
       "    <tr>\n",
       "      <th>5</th>\n",
       "      <td>70.304928</td>\n",
       "      <td>20s</td>\n",
       "    </tr>\n",
       "    <tr>\n",
       "      <th>6</th>\n",
       "      <td>66.786387</td>\n",
       "      <td>30s</td>\n",
       "    </tr>\n",
       "  </tbody>\n",
       "</table>\n",
       "</div>"
      ],
      "text/plain": [
       "   AvgLeadTime AgeRange\n",
       "0   158.772777      70s\n",
       "1   107.074830      10s\n",
       "2   104.810754      60s\n",
       "3    86.935446      50s\n",
       "4    74.893936      40s\n",
       "5    70.304928      20s\n",
       "6    66.786387      30s"
      ]
     },
     "execution_count": 71,
     "metadata": {},
     "output_type": "execute_result"
    }
   ],
   "source": [
    "%%bigquery\n",
    "SELECT AVG(AverageLeadTime) AS AvgLeadTime, AgeRange\n",
    "FROM ba775-a09-fall22.hotelcustomerdataset.hotelcustomersdatasetcleaned_2\n",
    "GROUP BY AgeRange\n",
    "ORDER BY AvgLeadTime DESC;"
   ]
  },
  {
   "cell_type": "markdown",
   "id": "e48ffe85-93dd-4af9-94f5-a3276ac5153e",
   "metadata": {},
   "source": [
    "Highest- People in their 70”s<br>\n",
    "Lowest- People in their 30’s"
   ]
  },
  {
   "cell_type": "markdown",
   "id": "ca670ce2-280c-40e1-8216-f1e5428bc207",
   "metadata": {},
   "source": [
    "The average lead time, which is the average number of days elapsed between the customer’s booking date and arrival date, decreases with a decrease in age. Thus, it can be concluded that people in their 30's are more likely to make impromptu decisions than people in the age range of 70's. Therefore, marketing strategies must be timed accordingly for different age segments."
   ]
  },
  {
   "cell_type": "markdown",
   "id": "1f77f5b7-1445-4db2-89e3-9e46fe33e439",
   "metadata": {
    "jp-MarkdownHeadingCollapsed": true,
    "tags": []
   },
   "source": [
    "### Booking Information -- Repeated booking from same customer"
   ]
  },
  {
   "cell_type": "markdown",
   "id": "a79baf68-807e-4cdc-9eb9-7c0de178222c",
   "metadata": {},
   "source": [
    "**Customers from which country have stayed more than once and have contributed to the maximum revenue?**"
   ]
  },
  {
   "cell_type": "code",
   "execution_count": 129,
   "id": "0e4e29d6-09c9-40fa-8eee-2147930accb4",
   "metadata": {},
   "outputs": [
    {
     "name": "stderr",
     "output_type": "stream",
     "text": [
      "Query complete after 0.00s: 100%|██████████| 3/3 [00:00<00:00, 1941.21query/s]                        \n",
      "Downloading: 100%|██████████| 5/5 [00:01<00:00,  3.57rows/s]\n"
     ]
    },
    {
     "data": {
      "text/html": [
       "<div>\n",
       "<style scoped>\n",
       "    .dataframe tbody tr th:only-of-type {\n",
       "        vertical-align: middle;\n",
       "    }\n",
       "\n",
       "    .dataframe tbody tr th {\n",
       "        vertical-align: top;\n",
       "    }\n",
       "\n",
       "    .dataframe thead th {\n",
       "        text-align: right;\n",
       "    }\n",
       "</style>\n",
       "<table border=\"1\" class=\"dataframe\">\n",
       "  <thead>\n",
       "    <tr style=\"text-align: right;\">\n",
       "      <th></th>\n",
       "      <th>country</th>\n",
       "      <th>Customer_category</th>\n",
       "      <th>Number_of_bookings</th>\n",
       "      <th>Revenue_from_repeat_customers</th>\n",
       "      <th>Revenue_per_booking</th>\n",
       "    </tr>\n",
       "  </thead>\n",
       "  <tbody>\n",
       "    <tr>\n",
       "      <th>0</th>\n",
       "      <td>Portugal</td>\n",
       "      <td>Repeat Customers</td>\n",
       "      <td>1795</td>\n",
       "      <td>299928.0</td>\n",
       "      <td>167.0</td>\n",
       "    </tr>\n",
       "    <tr>\n",
       "      <th>1</th>\n",
       "      <td>France</td>\n",
       "      <td>Repeat Customers</td>\n",
       "      <td>220</td>\n",
       "      <td>123570.0</td>\n",
       "      <td>562.0</td>\n",
       "    </tr>\n",
       "    <tr>\n",
       "      <th>2</th>\n",
       "      <td>United Kingdom</td>\n",
       "      <td>Repeat Customers</td>\n",
       "      <td>216</td>\n",
       "      <td>104421.0</td>\n",
       "      <td>483.0</td>\n",
       "    </tr>\n",
       "    <tr>\n",
       "      <th>3</th>\n",
       "      <td>Germany</td>\n",
       "      <td>Repeat Customers</td>\n",
       "      <td>191</td>\n",
       "      <td>78247.0</td>\n",
       "      <td>410.0</td>\n",
       "    </tr>\n",
       "    <tr>\n",
       "      <th>4</th>\n",
       "      <td>United States</td>\n",
       "      <td>Repeat Customers</td>\n",
       "      <td>154</td>\n",
       "      <td>75854.0</td>\n",
       "      <td>493.0</td>\n",
       "    </tr>\n",
       "  </tbody>\n",
       "</table>\n",
       "</div>"
      ],
      "text/plain": [
       "          country Customer_category  Number_of_bookings  \\\n",
       "0        Portugal  Repeat Customers                1795   \n",
       "1          France  Repeat Customers                 220   \n",
       "2  United Kingdom  Repeat Customers                 216   \n",
       "3         Germany  Repeat Customers                 191   \n",
       "4   United States  Repeat Customers                 154   \n",
       "\n",
       "   Revenue_from_repeat_customers  Revenue_per_booking  \n",
       "0                       299928.0                167.0  \n",
       "1                       123570.0                562.0  \n",
       "2                       104421.0                483.0  \n",
       "3                        78247.0                410.0  \n",
       "4                        75854.0                493.0  "
      ]
     },
     "execution_count": 129,
     "metadata": {},
     "output_type": "execute_result"
    }
   ],
   "source": [
    "%%bigquery\n",
    "--Customers from which countries have arrived more than once and have contributed to the maximum revenue\n",
    "SELECT country, \n",
    "  CASE WHEN DaysSinceLastStay = DaysSinceFirstStay THEN 'One-time Customer'\n",
    "    ELSE 'Repeat Customers'\n",
    "    END AS Customer_category,\n",
    "  SUM(BookingsCheckedIn) AS Number_of_bookings,\n",
    "ROUND(SUM(TotalRevenue),0) AS Revenue_from_repeat_customers,\n",
    "ROUND(SUM(TotalRevenue)/SUM(BookingsCheckedIn),0) AS Revenue_per_booking\n",
    "FROM ba775-a09-fall22.hotelcustomerdataset.hotelcustomersdatasetcleaned_2\n",
    "GROUP BY country,customer_category\n",
    "HAVING Customer_category = 'Repeat Customers'\n",
    "ORDER BY Revenue_from_repeat_customers DESC\n",
    "LIMIT 5;"
   ]
  },
  {
   "cell_type": "markdown",
   "id": "597fdb0a-4560-4450-b2c1-d05b5f4c55f4",
   "metadata": {},
   "source": [
    "A remarkable portion of the hotel's bookings are generated from recurring customers, coming from Portugal. However, it can be noted that the corespending revenue per booking generated from customers coming from Portugal is significantly lower than other countries. This can be explained by a significant difference in variables such as duration of stay, utilities required, or number of rooms booked when travelling locally versus internationally. "
   ]
  },
  {
   "cell_type": "markdown",
   "id": "85ed76a4-25d6-42cc-9f4f-6550d9e2dac3",
   "metadata": {},
   "source": [
    "**Customers from which age group are regulars at the hotel, and have contributed to the maximum revenue?**"
   ]
  },
  {
   "cell_type": "code",
   "execution_count": 141,
   "id": "a3b626d0-7098-441c-ab14-3a63b8e3916e",
   "metadata": {
    "tags": []
   },
   "outputs": [
    {
     "name": "stderr",
     "output_type": "stream",
     "text": [
      "Query complete after 0.01s: 100%|██████████| 3/3 [00:00<00:00, 1541.65query/s]                        \n",
      "Downloading: 100%|██████████| 7/7 [00:01<00:00,  4.81rows/s]\n"
     ]
    },
    {
     "data": {
      "text/html": [
       "<div>\n",
       "<style scoped>\n",
       "    .dataframe tbody tr th:only-of-type {\n",
       "        vertical-align: middle;\n",
       "    }\n",
       "\n",
       "    .dataframe tbody tr th {\n",
       "        vertical-align: top;\n",
       "    }\n",
       "\n",
       "    .dataframe thead th {\n",
       "        text-align: right;\n",
       "    }\n",
       "</style>\n",
       "<table border=\"1\" class=\"dataframe\">\n",
       "  <thead>\n",
       "    <tr style=\"text-align: right;\">\n",
       "      <th></th>\n",
       "      <th>AgeRange</th>\n",
       "      <th>Customer_category</th>\n",
       "      <th>Number_of_bookings</th>\n",
       "      <th>Revenue_from_repeat_customers</th>\n",
       "    </tr>\n",
       "  </thead>\n",
       "  <tbody>\n",
       "    <tr>\n",
       "      <th>0</th>\n",
       "      <td>50s</td>\n",
       "      <td>Repeat Customer</td>\n",
       "      <td>1067</td>\n",
       "      <td>367520.30</td>\n",
       "    </tr>\n",
       "    <tr>\n",
       "      <th>1</th>\n",
       "      <td>40s</td>\n",
       "      <td>Repeat Customer</td>\n",
       "      <td>1220</td>\n",
       "      <td>354088.34</td>\n",
       "    </tr>\n",
       "    <tr>\n",
       "      <th>2</th>\n",
       "      <td>30s</td>\n",
       "      <td>Repeat Customer</td>\n",
       "      <td>587</td>\n",
       "      <td>208102.18</td>\n",
       "    </tr>\n",
       "    <tr>\n",
       "      <th>3</th>\n",
       "      <td>60s</td>\n",
       "      <td>Repeat Customer</td>\n",
       "      <td>509</td>\n",
       "      <td>185321.53</td>\n",
       "    </tr>\n",
       "    <tr>\n",
       "      <th>4</th>\n",
       "      <td>70s</td>\n",
       "      <td>Repeat Customer</td>\n",
       "      <td>169</td>\n",
       "      <td>69573.00</td>\n",
       "    </tr>\n",
       "    <tr>\n",
       "      <th>5</th>\n",
       "      <td>20s</td>\n",
       "      <td>Repeat Customer</td>\n",
       "      <td>187</td>\n",
       "      <td>65339.00</td>\n",
       "    </tr>\n",
       "    <tr>\n",
       "      <th>6</th>\n",
       "      <td>10s</td>\n",
       "      <td>Repeat Customer</td>\n",
       "      <td>70</td>\n",
       "      <td>6122.25</td>\n",
       "    </tr>\n",
       "  </tbody>\n",
       "</table>\n",
       "</div>"
      ],
      "text/plain": [
       "  AgeRange Customer_category  Number_of_bookings  \\\n",
       "0      50s   Repeat Customer                1067   \n",
       "1      40s   Repeat Customer                1220   \n",
       "2      30s   Repeat Customer                 587   \n",
       "3      60s   Repeat Customer                 509   \n",
       "4      70s   Repeat Customer                 169   \n",
       "5      20s   Repeat Customer                 187   \n",
       "6      10s   Repeat Customer                  70   \n",
       "\n",
       "   Revenue_from_repeat_customers  \n",
       "0                      367520.30  \n",
       "1                      354088.34  \n",
       "2                      208102.18  \n",
       "3                      185321.53  \n",
       "4                       69573.00  \n",
       "5                       65339.00  \n",
       "6                        6122.25  "
      ]
     },
     "execution_count": 141,
     "metadata": {},
     "output_type": "execute_result"
    }
   ],
   "source": [
    "%%bigquery\n",
    "SELECT AgeRange, \n",
    "  CASE WHEN DaysSinceLastStay = DaysSinceFirstStay THEN 'One-time Customer'\n",
    "    ELSE 'Repeat Customer'\n",
    "    END AS Customer_category,\n",
    "SUM(BookingsCheckedIn) AS Number_of_bookings,\n",
    "SUM(TotalRevenue) AS Revenue_from_repeat_customers\n",
    "FROM ba775-a09-fall22.hotelcustomerdataset.hotelcustomersdatasetcleaned_2\n",
    "GROUP BY AgeRange,customer_category\n",
    "HAVING Customer_category = 'Repeat Customer'\n",
    "ORDER BY Revenue_from_repeat_customers DESC"
   ]
  },
  {
   "cell_type": "markdown",
   "id": "fb0318df-2e57-4c64-bad7-a1308234f619",
   "metadata": {},
   "source": [
    "Most of the hotel's repeat customers are in their 40s or 50s. The marketing campaign should focus on retaining these loyal customers via targeted marketing. "
   ]
  },
  {
   "cell_type": "markdown",
   "id": "60b30a4f-9ac2-4323-8a15-199126796180",
   "metadata": {
    "jp-MarkdownHeadingCollapsed": true,
    "tags": []
   },
   "source": [
    "### Booking Information -- Special requests"
   ]
  },
  {
   "cell_type": "markdown",
   "id": "25886020-a195-4e88-8f95-3ae99b175a99",
   "metadata": {},
   "source": [
    "**What are the total number of requests made for a specific bed size?**"
   ]
  },
  {
   "cell_type": "code",
   "execution_count": 79,
   "id": "134cff52-dd62-47a9-8b93-694602e34fdb",
   "metadata": {},
   "outputs": [
    {
     "name": "stderr",
     "output_type": "stream",
     "text": [
      "Query complete after 0.00s: 100%|██████████| 2/2 [00:00<00:00, 624.15query/s]                         \n",
      "Downloading: 100%|██████████| 1/1 [00:01<00:00,  1.28s/rows]\n"
     ]
    },
    {
     "data": {
      "text/html": [
       "<div>\n",
       "<style scoped>\n",
       "    .dataframe tbody tr th:only-of-type {\n",
       "        vertical-align: middle;\n",
       "    }\n",
       "\n",
       "    .dataframe tbody tr th {\n",
       "        vertical-align: top;\n",
       "    }\n",
       "\n",
       "    .dataframe thead th {\n",
       "        text-align: right;\n",
       "    }\n",
       "</style>\n",
       "<table border=\"1\" class=\"dataframe\">\n",
       "  <thead>\n",
       "    <tr style=\"text-align: right;\">\n",
       "      <th></th>\n",
       "      <th>SRKingSizedbed_count</th>\n",
       "      <th>SRKingSizedbed_ratio</th>\n",
       "      <th>SRTwinBed_count</th>\n",
       "      <th>SRTwinBed_ratio</th>\n",
       "    </tr>\n",
       "  </thead>\n",
       "  <tbody>\n",
       "    <tr>\n",
       "      <th>0</th>\n",
       "      <td>21019</td>\n",
       "      <td>35.41</td>\n",
       "      <td>7942</td>\n",
       "      <td>13.38</td>\n",
       "    </tr>\n",
       "  </tbody>\n",
       "</table>\n",
       "</div>"
      ],
      "text/plain": [
       "   SRKingSizedbed_count  SRKingSizedbed_ratio  SRTwinBed_count  \\\n",
       "0                 21019                 35.41             7942   \n",
       "\n",
       "   SRTwinBed_ratio  \n",
       "0            13.38  "
      ]
     },
     "execution_count": 79,
     "metadata": {},
     "output_type": "execute_result"
    }
   ],
   "source": [
    "%%bigquery\n",
    "SELECT sum(SRKingSizeBed) SRKingSizedbed_count, \n",
    "       round(sum(SRKingSizeBed)/count(*)*100,2) SRKingSizedbed_ratio, \n",
    "       sum(SRTwinBed) SRTwinBed_count,\n",
    "       round(sum(SRTwinBed)/count(*)*100,2) SRTwinBed_ratio\n",
    "FROM `ba775-a09-fall22.hotelcustomerdataset.hotelcustomersdatasetcleaned_2` ;"
   ]
  },
  {
   "cell_type": "markdown",
   "id": "c65582d4-7021-4b78-8659-e4666bd33781",
   "metadata": {},
   "source": [
    "About 35% of the customers have made a special request for King sized bed, and about 13% of the customers have made a special request for a Twin-bed Type. In total, nearly half of the customers (49%) have special request for the bed type, with the King sized bed type being more popular than the twin-bed type.<br><br>"
   ]
  },
  {
   "cell_type": "markdown",
   "id": "8ec78d91-e165-4920-9263-7d011a63fefe",
   "metadata": {},
   "source": [
    "**Among the top 10 countries with the highest number of bookings, what percentage of customers have made special requests for king sized bed and twin-bed for that given country?**"
   ]
  },
  {
   "cell_type": "code",
   "execution_count": 81,
   "id": "2feb566e-75f3-4423-ae12-ba4d2c967871",
   "metadata": {},
   "outputs": [
    {
     "name": "stderr",
     "output_type": "stream",
     "text": [
      "Query complete after 0.00s: 100%|██████████| 3/3 [00:00<00:00, 914.79query/s]                         \n",
      "Downloading: 100%|██████████| 10/10 [00:01<00:00,  7.94rows/s]\n"
     ]
    },
    {
     "data": {
      "text/html": [
       "<div>\n",
       "<style scoped>\n",
       "    .dataframe tbody tr th:only-of-type {\n",
       "        vertical-align: middle;\n",
       "    }\n",
       "\n",
       "    .dataframe tbody tr th {\n",
       "        vertical-align: top;\n",
       "    }\n",
       "\n",
       "    .dataframe thead th {\n",
       "        text-align: right;\n",
       "    }\n",
       "</style>\n",
       "<table border=\"1\" class=\"dataframe\">\n",
       "  <thead>\n",
       "    <tr style=\"text-align: right;\">\n",
       "      <th></th>\n",
       "      <th>Country</th>\n",
       "      <th>SRKingSizedbed_count</th>\n",
       "      <th>SRKingSizedbed_percentage</th>\n",
       "      <th>SRTwinBed_count</th>\n",
       "      <th>SRTwinBed_percentage</th>\n",
       "    </tr>\n",
       "  </thead>\n",
       "  <tbody>\n",
       "    <tr>\n",
       "      <th>0</th>\n",
       "      <td>Brazil</td>\n",
       "      <td>951</td>\n",
       "      <td>48.30</td>\n",
       "      <td>274</td>\n",
       "      <td>13.92</td>\n",
       "    </tr>\n",
       "    <tr>\n",
       "      <th>1</th>\n",
       "      <td>United States</td>\n",
       "      <td>944</td>\n",
       "      <td>40.19</td>\n",
       "      <td>336</td>\n",
       "      <td>14.30</td>\n",
       "    </tr>\n",
       "    <tr>\n",
       "      <th>2</th>\n",
       "      <td>Italy</td>\n",
       "      <td>991</td>\n",
       "      <td>39.67</td>\n",
       "      <td>282</td>\n",
       "      <td>11.29</td>\n",
       "    </tr>\n",
       "    <tr>\n",
       "      <th>3</th>\n",
       "      <td>France</td>\n",
       "      <td>3553</td>\n",
       "      <td>38.35</td>\n",
       "      <td>967</td>\n",
       "      <td>10.44</td>\n",
       "    </tr>\n",
       "    <tr>\n",
       "      <th>4</th>\n",
       "      <td>United Kingdom</td>\n",
       "      <td>2390</td>\n",
       "      <td>37.30</td>\n",
       "      <td>1148</td>\n",
       "      <td>17.92</td>\n",
       "    </tr>\n",
       "    <tr>\n",
       "      <th>5</th>\n",
       "      <td>Belgium</td>\n",
       "      <td>796</td>\n",
       "      <td>34.91</td>\n",
       "      <td>356</td>\n",
       "      <td>15.61</td>\n",
       "    </tr>\n",
       "    <tr>\n",
       "      <th>6</th>\n",
       "      <td>Netherlands</td>\n",
       "      <td>700</td>\n",
       "      <td>34.36</td>\n",
       "      <td>355</td>\n",
       "      <td>17.43</td>\n",
       "    </tr>\n",
       "    <tr>\n",
       "      <th>7</th>\n",
       "      <td>Spain</td>\n",
       "      <td>1241</td>\n",
       "      <td>31.85</td>\n",
       "      <td>468</td>\n",
       "      <td>12.01</td>\n",
       "    </tr>\n",
       "    <tr>\n",
       "      <th>8</th>\n",
       "      <td>Portugal</td>\n",
       "      <td>1969</td>\n",
       "      <td>30.15</td>\n",
       "      <td>570</td>\n",
       "      <td>8.73</td>\n",
       "    </tr>\n",
       "    <tr>\n",
       "      <th>9</th>\n",
       "      <td>Germany</td>\n",
       "      <td>2065</td>\n",
       "      <td>27.69</td>\n",
       "      <td>1066</td>\n",
       "      <td>14.30</td>\n",
       "    </tr>\n",
       "  </tbody>\n",
       "</table>\n",
       "</div>"
      ],
      "text/plain": [
       "          Country  SRKingSizedbed_count  SRKingSizedbed_percentage  \\\n",
       "0          Brazil                   951                      48.30   \n",
       "1   United States                   944                      40.19   \n",
       "2           Italy                   991                      39.67   \n",
       "3          France                  3553                      38.35   \n",
       "4  United Kingdom                  2390                      37.30   \n",
       "5         Belgium                   796                      34.91   \n",
       "6     Netherlands                   700                      34.36   \n",
       "7           Spain                  1241                      31.85   \n",
       "8        Portugal                  1969                      30.15   \n",
       "9         Germany                  2065                      27.69   \n",
       "\n",
       "   SRTwinBed_count  SRTwinBed_percentage  \n",
       "0              274                 13.92  \n",
       "1              336                 14.30  \n",
       "2              282                 11.29  \n",
       "3              967                 10.44  \n",
       "4             1148                 17.92  \n",
       "5              356                 15.61  \n",
       "6              355                 17.43  \n",
       "7              468                 12.01  \n",
       "8              570                  8.73  \n",
       "9             1066                 14.30  "
      ]
     },
     "execution_count": 81,
     "metadata": {},
     "output_type": "execute_result"
    }
   ],
   "source": [
    "%%bigquery\n",
    "SELECT \n",
    "Country, \n",
    "sum(SRKingSizeBed)as SRKingSizedbed_count, \n",
    "round(sum(SRKingSizeBed)/count(ID)*100,2) SRKingSizedbed_percentage, \n",
    "sum(SRTwinBed)as SRTwinBed_count,\n",
    "round(sum(SRTwinBed)/count(ID)*100,2) SRTwinBed_percentage\n",
    "FROM `ba775-a09-fall22.hotelcustomerdataset.hotelcustomersdatasetcleaned_2`\n",
    "GROUP BY Country\n",
    "having count(ID)>=1969\n",
    "order by SRKingSizedbed_percentage desc;"
   ]
  },
  {
   "cell_type": "markdown",
   "id": "9df91f53-11ae-47e8-8748-101efbd69552",
   "metadata": {},
   "source": [
    "Nearly half of the customers from Brazil(48%) have indicated a special request for King-sized beds. A similar trend can be noted for customers across all countries. Thus it can be inferred that the people making most bookings at the hotel demand a King-sized bed. Therefore, it is an important variable when creating marketing strategies for the hotel."
   ]
  },
  {
   "cell_type": "markdown",
   "id": "320fe0e7-2f4c-4290-abe4-551cc7763356",
   "metadata": {},
   "source": [
    "## References"
   ]
  },
  {
   "cell_type": "markdown",
   "id": "53415d52-7572-4003-ba4e-9caece962c57",
   "metadata": {},
   "source": [
    "Markdown for Jupyter Cheat Sheet https://notebook.community/tschinz/iPython_Workspace/00_Admin/CheatSheet/Markdown%20CheatSheet"
   ]
  },
  {
   "cell_type": "markdown",
   "id": "5fbe9169-edbe-43cb-853e-cdb3f3b3d68a",
   "metadata": {},
   "source": [
    "SQL STDEV Function https://www.tutorialgateway.org/sql-stdev-function/"
   ]
  },
  {
   "cell_type": "markdown",
   "id": "20ac7b67-8382-4394-a64e-02b9937c3796",
   "metadata": {},
   "source": [
    "A hotel's customers personal, behavioral, demographic, and geographic dataset from Lisbon, Portugal (2015–2018) Nuno Antonio, Ana de Almeida, and Luis Nunes for Data in Brief https://www.sciencedirect.com/science/article/pii/S2352340920314645?via%3Dihub\n"
   ]
  }
 ],
 "metadata": {
  "environment": {
   "kernel": "python3",
   "name": "common-cpu.m97",
   "type": "gcloud",
   "uri": "gcr.io/deeplearning-platform-release/base-cpu:m97"
  },
  "kernelspec": {
   "display_name": "Python 3",
   "language": "python",
   "name": "python3"
  },
  "language_info": {
   "codemirror_mode": {
    "name": "ipython",
    "version": 3
   },
   "file_extension": ".py",
   "mimetype": "text/x-python",
   "name": "python",
   "nbconvert_exporter": "python",
   "pygments_lexer": "ipython3",
   "version": "3.7.12"
  },
  "toc-autonumbering": false
 },
 "nbformat": 4,
 "nbformat_minor": 5
}
